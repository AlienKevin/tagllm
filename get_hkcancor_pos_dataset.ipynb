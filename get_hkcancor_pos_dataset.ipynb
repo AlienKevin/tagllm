{
 "cells": [
  {
   "cell_type": "code",
   "execution_count": 1,
   "metadata": {},
   "outputs": [
    {
     "name": "stderr",
     "output_type": "stream",
     "text": [
      "/Users/kevin/miniconda3/envs/tagllm/lib/python3.12/site-packages/tqdm/auto.py:21: TqdmWarning: IProgress not found. Please update jupyter and ipywidgets. See https://ipywidgets.readthedocs.io/en/stable/user_install.html\n",
      "  from .autonotebook import tqdm as notebook_tqdm\n"
     ]
    }
   ],
   "source": [
    "from datasets import load_dataset, features\n",
    "\n",
    "def patch_v(tag):\n",
    "    if tag == 'V':\n",
    "        return 'VERB'\n",
    "    else:\n",
    "        return tag\n",
    "\n",
    "def get_hkcancor_pos_dataset():\n",
    "    #default only option\n",
    "    dataset = load_dataset(\"hkcancor\", \"default\")\n",
    "    train_dataset = dataset[\"train\"]\n",
    "\n",
    "    source_upos = train_dataset.features[\"pos_tags_ud\"].feature\n",
    "    print(\"Source upos:\", source_upos)\n",
    "    target_upos = features.ClassLabel(\n",
    "        names=[\n",
    "            \"NOUN\",\n",
    "            \"PUNCT\",\n",
    "            \"ADP\",\n",
    "            \"NUM\",\n",
    "            \"SYM\",\n",
    "            \"SCONJ\",\n",
    "            \"ADJ\",\n",
    "            \"PART\",\n",
    "            \"DET\",\n",
    "            \"CCONJ\",\n",
    "            \"PROPN\",\n",
    "            \"PRON\",\n",
    "            \"X\",\n",
    "            \"_\",\n",
    "            \"ADV\",\n",
    "            \"INTJ\",\n",
    "            \"VERB\",\n",
    "            \"AUX\",\n",
    "        ]\n",
    "    )\n",
    "    print(\"Target upos:\", target_upos)\n",
    "\n",
    "    def preprocess_function(examples):\n",
    "        examples[\"inputs\"] = [\"yue:\" + ' '.join(examples[\"tokens\"][i]) + \"\\n\" + \n",
    "            \"pos:\" + ' '.join(str(target_upos.str2int(patch_v(source_upos.int2str(tag))))\n",
    "            for tag in examples[\"pos_tags_ud\"][i]) for i in range(len(examples[\"tokens\"]))]\n",
    "        return examples\n",
    "    \n",
    "    train_dataset = train_dataset.map(preprocess_function, remove_columns=\n",
    "        ['tokens', 'conversation_id', 'pos_tags_prf', 'pos_tags_ud', 'speaker', 'transcriptions', 'turn_number', 'tokens'], batched=True)\n",
    "    return train_dataset"
   ]
  },
  {
   "cell_type": "code",
   "execution_count": 2,
   "metadata": {},
   "outputs": [
    {
     "name": "stdout",
     "output_type": "stream",
     "text": [
      "Source upos: ClassLabel(names=['NUM', 'ADP', 'INTJ', 'PROPN', 'ADJ', 'V', 'DET', 'ADV', 'CCONJ', 'PRON', 'X', 'PART', 'AUX', 'VERB', 'NOUN', 'PUNCT'], id=None)\n",
      "Target upos: ClassLabel(names=['NOUN', 'PUNCT', 'ADP', 'NUM', 'SYM', 'SCONJ', 'ADJ', 'PART', 'DET', 'CCONJ', 'PROPN', 'PRON', 'X', '_', 'ADV', 'INTJ', 'VERB', 'AUX'], id=None)\n"
     ]
    },
    {
     "data": {
      "text/plain": [
       "Dataset({\n",
       "    features: ['inputs'],\n",
       "    num_rows: 10801\n",
       "})"
      ]
     },
     "execution_count": 2,
     "metadata": {},
     "output_type": "execute_result"
    }
   ],
   "source": [
    "hkcancor_pos_dataset = get_hkcancor_pos_dataset()\n",
    "hkcancor_pos_dataset"
   ]
  },
  {
   "cell_type": "code",
   "execution_count": 3,
   "metadata": {},
   "outputs": [
    {
     "data": {
      "text/plain": [
       "{'inputs': ['yue:喂 遲 啲 去 唔 去 旅行 啊 ？ 你 老公 有冇 平 機票 啊 ？\\npos:15 6 7 16 14 16 0 7 1 11 0 16 6 0 7 1',\n",
       "  'yue:平 機票 要 淡季 先 有得 平 𡃉 喎 。 而家 旺 - 。\\npos:6 0 17 0 14 17 6 7 7 1 14 6 1 1',\n",
       "  'yue:冇得 去 嗱 。\\npos:17 16 7 1',\n",
       "  'yue:吓 ?\\npos:15 1',\n",
       "  'yue:而家 旺季 。 通常 都 係 貴 𡃉 喎 ， 啲 機票 。\\npos:14 0 1 14 14 16 6 7 7 1 0 0 1',\n",
       "  'yue:係 咩 ？ 我 聽 朋友 講 話 去 ， 誒 ， Orlando 嗰個 舊 - 嗰個 迪士尼 呢 ， 廿五 週年 喎 。 好 抵 玩 喎 。 直程 可以 喺 裏邊 嗰啲 酒店 住 𠻹 喎 ， 佢 話 。\\npos:16 7 1 11 16 0 16 16 16 1 15 1 10 11 6 1 11 10 7 1 3 0 7 1 14 6 16 7 1 14 17 2 14 11 0 16 7 7 1 11 16 1',\n",
       "  'yue:但 你哋 講 嗰啲 係 ，\\npos:9 11 16 11 16 1',\n",
       "  'yue:跟 旅行社 去 囖 。\\npos:16 0 16 7 1',\n",
       "  'yue:High season 去 𡃉 喎 。\\npos:6 0 16 7 7 1',\n",
       "  'yue:七 八月 嗰陣時 囖 。 但係 都 幾 貴 喎 。 都 要 成 萬四 蚊 ， 四 五 日 。 淨係 去 Orlando 嗰度 玩 咋 喎 。 冇 嘢 做 。\\npos:3 14 11 7 1 9 14 14 6 7 1 14 17 3 3 0 1 3 3 0 1 14 16 10 11 16 7 7 1 16 0 16 1']}"
      ]
     },
     "execution_count": 3,
     "metadata": {},
     "output_type": "execute_result"
    }
   ],
   "source": [
    "hkcancor_pos_dataset[:10]"
   ]
  }
 ],
 "metadata": {
  "kernelspec": {
   "display_name": "tagllm",
   "language": "python",
   "name": "python3"
  },
  "language_info": {
   "codemirror_mode": {
    "name": "ipython",
    "version": 3
   },
   "file_extension": ".py",
   "mimetype": "text/x-python",
   "name": "python",
   "nbconvert_exporter": "python",
   "pygments_lexer": "ipython3",
   "version": "3.12.3"
  }
 },
 "nbformat": 4,
 "nbformat_minor": 2
}
