{
 "cells": [
  {
   "cell_type": "code",
   "execution_count": 1,
   "metadata": {},
   "outputs": [],
   "source": [
    "num_token_per_tag = 10\n",
    "\n",
    "pos_tokens = [f'<|TOK {i}|>' for i in range(200, 200 + num_token_per_tag)]"
   ]
  },
  {
   "cell_type": "code",
   "execution_count": 12,
   "metadata": {},
   "outputs": [],
   "source": [
    "from datasets import load_dataset, features\n",
    "\n",
    "def patch_v(tag):\n",
    "    if tag == 'V':\n",
    "        return 'VERB'\n",
    "    else:\n",
    "        return tag\n",
    "\n",
    "def get_dataset(num_existing_tokens=0):\n",
    "    #default only option\n",
    "    dataset = load_dataset(\"hkcancor\", \"default\")\n",
    "\n",
    "    single_lang = [\"eng\", \"yue\", \"cmn\"]\n",
    "\n",
    "    tag_name_dict = {}\n",
    "    for lang in single_lang:\n",
    "        tag_name_dict[lang] = \"\".join([f'<|TOK {i}|>' for i in range(num_existing_tokens, num_existing_tokens + num_token_per_tag)])\n",
    "        num_existing_tokens += num_token_per_tag\n",
    "\n",
    "    source_upos = dataset['train'].features[\"pos_tags_ud\"].feature\n",
    "    print(\"Source upos:\", source_upos)\n",
    "    target_upos = features.ClassLabel(\n",
    "        names=[\n",
    "            \"NOUN\",\n",
    "            \"PUNCT\",\n",
    "            \"ADP\",\n",
    "            \"NUM\",\n",
    "            \"SYM\",\n",
    "            \"SCONJ\",\n",
    "            \"ADJ\",\n",
    "            \"PART\",\n",
    "            \"DET\",\n",
    "            \"CCONJ\",\n",
    "            \"PROPN\",\n",
    "            \"PRON\",\n",
    "            \"X\",\n",
    "            \"_\",\n",
    "            \"ADV\",\n",
    "            \"INTJ\",\n",
    "            \"VERB\",\n",
    "            \"AUX\",\n",
    "        ]\n",
    "    )\n",
    "    print(\"Target upos:\", target_upos)\n",
    "\n",
    "    def preprocess_function(examples):\n",
    "        examples[\"inputs\"] = [tag_name_dict[\"yue\"] + ' '.join(examples[\"tokens\"][i]) + \"\\n\" + \n",
    "            ''.join(pos_tokens) + ' '.join(patch_v(source_upos.int2str(tag)).lower()\n",
    "            for tag in examples[\"pos_tags_ud\"][i]) for i in range(len(examples[\"tokens\"]))]\n",
    "        return examples\n",
    "    \n",
    "    dataset['train'] = dataset['train'].map(preprocess_function, remove_columns=\n",
    "        ['tokens', 'conversation_id', 'pos_tags_prf', 'pos_tags_ud', 'speaker', 'transcriptions', 'turn_number', 'tokens'], batched=True)\n",
    "    \n",
    "    dataset = dataset['train'].train_test_split(test_size=0.1, seed=42)\n",
    "    train_dataset, eval_dataset = dataset['train'], dataset['test']\n",
    "    return train_dataset, eval_dataset, tag_name_dict"
   ]
  },
  {
   "cell_type": "code",
   "execution_count": 13,
   "metadata": {},
   "outputs": [
    {
     "name": "stdout",
     "output_type": "stream",
     "text": [
      "Source upos: ClassLabel(names=['NUM', 'ADP', 'INTJ', 'PROPN', 'ADJ', 'V', 'DET', 'ADV', 'CCONJ', 'PRON', 'X', 'PART', 'AUX', 'VERB', 'NOUN', 'PUNCT'], id=None)\n",
      "Target upos: ClassLabel(names=['NOUN', 'PUNCT', 'ADP', 'NUM', 'SYM', 'SCONJ', 'ADJ', 'PART', 'DET', 'CCONJ', 'PROPN', 'PRON', 'X', '_', 'ADV', 'INTJ', 'VERB', 'AUX'], id=None)\n"
     ]
    }
   ],
   "source": [
    "train_dataset, eval_dataset, tag_name_dict = get_dataset()"
   ]
  },
  {
   "cell_type": "code",
   "execution_count": 14,
   "metadata": {},
   "outputs": [
    {
     "data": {
      "text/plain": [
       "Dataset({\n",
       "    features: ['inputs'],\n",
       "    num_rows: 9720\n",
       "})"
      ]
     },
     "execution_count": 14,
     "metadata": {},
     "output_type": "execute_result"
    }
   ],
   "source": [
    "train_dataset"
   ]
  },
  {
   "cell_type": "code",
   "execution_count": 15,
   "metadata": {},
   "outputs": [
    {
     "data": {
      "text/plain": [
       "{'inputs': ['<|TOK 10|><|TOK 11|><|TOK 12|><|TOK 13|><|TOK 14|><|TOK 15|><|TOK 16|><|TOK 17|><|TOK 18|><|TOK 19|>噉 考 唔 考 到 啊 ？\\n<|TOK 200|><|TOK 201|><|TOK 202|><|TOK 203|><|TOK 204|><|TOK 205|><|TOK 206|><|TOK 207|><|TOK 208|><|TOK 209|>cconj verb adv verb part part punct',\n",
       "  '<|TOK 10|><|TOK 11|><|TOK 12|><|TOK 13|><|TOK 14|><|TOK 15|><|TOK 16|><|TOK 17|><|TOK 18|><|TOK 19|>誒 ， 一 隻 西施 ， 一 隻 拉薩 。\\n<|TOK 200|><|TOK 201|><|TOK 202|><|TOK 203|><|TOK 204|><|TOK 205|><|TOK 206|><|TOK 207|><|TOK 208|><|TOK 209|>intj punct num noun propn punct num noun propn punct',\n",
       "  '<|TOK 10|><|TOK 11|><|TOK 12|><|TOK 13|><|TOK 14|><|TOK 15|><|TOK 16|><|TOK 17|><|TOK 18|><|TOK 19|>我 記得 - 記得 嗰陣時 返 羅師 都 係 - 都 係 唔使 一 個 鐘頭 咋 喎 。 即係 開頭 - 係 開頭 返 返 - 即係 最 開頭 嘅 時候 返學 就 要 最 - 最 多 時間 囖 。 成 一 個 鐘頭 零 三 個 字 ， 但係 返 熟 咗 呢 知道 啲 路 點 行 嚹 嗰啲 呢 …\\n<|TOK 200|><|TOK 201|><|TOK 202|><|TOK 203|><|TOK 204|><|TOK 205|><|TOK 206|><|TOK 207|><|TOK 208|><|TOK 209|>pron verb punct verb pron verb propn adv verb punct adv verb aux num noun noun part part punct cconj adv punct verb adv verb part punct cconj adv adv part noun verb adv verb adv punct adv adj noun part punct adj num noun noun num num noun noun punct cconj verb adj part part verb noun noun pron verb part pron part punct',\n",
       "  '<|TOK 10|><|TOK 11|><|TOK 12|><|TOK 13|><|TOK 14|><|TOK 15|><|TOK 16|><|TOK 17|><|TOK 18|><|TOK 19|>唔好 啊 。 哩啲 咁 technical ， 冇 興趣 啊 。\\n<|TOK 200|><|TOK 201|><|TOK 202|><|TOK 203|><|TOK 204|><|TOK 205|><|TOK 206|><|TOK 207|><|TOK 208|><|TOK 209|>aux part punct pron adv adj punct verb noun part punct',\n",
       "  '<|TOK 10|><|TOK 11|><|TOK 12|><|TOK 13|><|TOK 14|><|TOK 15|><|TOK 16|><|TOK 17|><|TOK 18|><|TOK 19|>諗 清楚 啲 ， 你 讀 語文 你 應該 知 哩個 ， 哩 句 說話 嘅 意思 𡃉 喎 。\\n<|TOK 200|><|TOK 201|><|TOK 202|><|TOK 203|><|TOK 204|><|TOK 205|><|TOK 206|><|TOK 207|><|TOK 208|><|TOK 209|>verb adj part punct pron verb noun pron aux verb pron punct pron noun noun part noun part part punct',\n",
       "  '<|TOK 10|><|TOK 11|><|TOK 12|><|TOK 13|><|TOK 14|><|TOK 15|><|TOK 16|><|TOK 17|><|TOK 18|><|TOK 19|>噉 咪 係 囖 。\\n<|TOK 200|><|TOK 201|><|TOK 202|><|TOK 203|><|TOK 204|><|TOK 205|><|TOK 206|><|TOK 207|><|TOK 208|><|TOK 209|>cconj adv verb part punct',\n",
       "  '<|TOK 10|><|TOK 11|><|TOK 12|><|TOK 13|><|TOK 14|><|TOK 15|><|TOK 16|><|TOK 17|><|TOK 18|><|TOK 19|>又 係 老細 。\\n<|TOK 200|><|TOK 201|><|TOK 202|><|TOK 203|><|TOK 204|><|TOK 205|><|TOK 206|><|TOK 207|><|TOK 208|><|TOK 209|>adv verb noun punct',\n",
       "  '<|TOK 10|><|TOK 11|><|TOK 12|><|TOK 13|><|TOK 14|><|TOK 15|><|TOK 16|><|TOK 17|><|TOK 18|><|TOK 19|>係 喇 ， 噉 - 係 喇 ， 噉 可能 佢 哩 份 呢 ， 因為 個 basic salary 都 OK 噉樣 喇 。\\n<|TOK 200|><|TOK 201|><|TOK 202|><|TOK 203|><|TOK 204|><|TOK 205|><|TOK 206|><|TOK 207|><|TOK 208|><|TOK 209|>verb part punct cconj punct verb part punct cconj aux pron pron noun part punct cconj noun adj noun adv adj cconj part punct',\n",
       "  '<|TOK 10|><|TOK 11|><|TOK 12|><|TOK 13|><|TOK 14|><|TOK 15|><|TOK 16|><|TOK 17|><|TOK 18|><|TOK 19|>你 聽日 返 屋企 𡃉 嚹 喎 ， 係 唔係 啊 ？\\n<|TOK 200|><|TOK 201|><|TOK 202|><|TOK 203|><|TOK 204|><|TOK 205|><|TOK 206|><|TOK 207|><|TOK 208|><|TOK 209|>pron adv verb noun part part part punct verb verb part punct',\n",
       "  '<|TOK 10|><|TOK 11|><|TOK 12|><|TOK 13|><|TOK 14|><|TOK 15|><|TOK 16|><|TOK 17|><|TOK 18|><|TOK 19|>Esprit 㗎 ？\\n<|TOK 200|><|TOK 201|><|TOK 202|><|TOK 203|><|TOK 204|><|TOK 205|><|TOK 206|><|TOK 207|><|TOK 208|><|TOK 209|>propn part punct']}"
      ]
     },
     "execution_count": 15,
     "metadata": {},
     "output_type": "execute_result"
    }
   ],
   "source": [
    "train_dataset[:10]"
   ]
  },
  {
   "cell_type": "code",
   "execution_count": 16,
   "metadata": {},
   "outputs": [
    {
     "data": {
      "text/plain": [
       "{'inputs': ['<|TOK 10|><|TOK 11|><|TOK 12|><|TOK 13|><|TOK 14|><|TOK 15|><|TOK 16|><|TOK 17|><|TOK 18|><|TOK 19|>啲 - 啲 sales 嘅 質素 下降 ， 會 唔 會 好似 同 醫管局 嗰啲 …\\n<|TOK 200|><|TOK 201|><|TOK 202|><|TOK 203|><|TOK 204|><|TOK 205|><|TOK 206|><|TOK 207|><|TOK 208|><|TOK 209|>noun punct noun noun part noun verb punct aux adv aux verb adp propn pron punct',\n",
       "  '<|TOK 10|><|TOK 11|><|TOK 12|><|TOK 13|><|TOK 14|><|TOK 15|><|TOK 16|><|TOK 17|><|TOK 18|><|TOK 19|>唉 ， 有 乜嘢 辦法 啊 ， 興 吖 嗎 ， 咁 興 啊 。\\n<|TOK 200|><|TOK 201|><|TOK 202|><|TOK 203|><|TOK 204|><|TOK 205|><|TOK 206|><|TOK 207|><|TOK 208|><|TOK 209|>intj punct verb pron noun part punct verb part part punct adv verb part punct',\n",
       "  '<|TOK 10|><|TOK 11|><|TOK 12|><|TOK 13|><|TOK 14|><|TOK 15|><|TOK 16|><|TOK 17|><|TOK 18|><|TOK 19|>夠 嚹 。\\n<|TOK 200|><|TOK 201|><|TOK 202|><|TOK 203|><|TOK 204|><|TOK 205|><|TOK 206|><|TOK 207|><|TOK 208|><|TOK 209|>verb part punct',\n",
       "  '<|TOK 10|><|TOK 11|><|TOK 12|><|TOK 13|><|TOK 14|><|TOK 15|><|TOK 16|><|TOK 17|><|TOK 18|><|TOK 19|>噉 另外 就 同 佢 太太 之間 呢 亦都 有 個 中年 婚姻 危機 𡃉 。 即係 覺得 太太 ， 冇 理由 我 太太 會 重 - 重 愛 我 吖 。 即係 我 事業 又 唔 得 ， 要 樣 冇 樣 ， 要 錢 冇 錢 噉樣 。 噉 另外 有 個 黑人 嘅 。 就 係 鬍鬚 阿伯 ， 就 成 五十 歲 嘅 。 點解 會 揾 到 佢 ？ 因為 佢 要 揾 個 人 教 跳舞 吖 嗎 。 而 哩個 阿伯 係 識 跳 所有 爵士舞 ， 只不過 係 因為 骨頭 硬 。 即係 跳 起 身 ， 跌落 地下 之後 就 起 唔 到 身 𡃉 嘞 。 但係 之前 嗰 段 係 得 嘅 。\\n<|TOK 200|><|TOK 201|><|TOK 202|><|TOK 203|><|TOK 204|><|TOK 205|><|TOK 206|><|TOK 207|><|TOK 208|><|TOK 209|>cconj cconj adv adp pron noun adv part adv verb noun noun noun noun part punct cconj verb noun punct verb noun pron noun aux adv punct adv verb pron part punct cconj pron noun adv adv verb punct aux noun verb noun punct aux noun verb noun cconj punct cconj cconj verb noun noun part punct adv verb noun noun punct adv num num noun part punct pron aux verb part pron punct cconj pron aux verb noun noun verb verb part part punct cconj pron noun verb verb verb adj noun punct adv verb cconj noun adj punct cconj verb verb noun punct verb noun adv adv verb adv part noun part part punct cconj adv pron noun verb aux part punct',\n",
       "  '<|TOK 10|><|TOK 11|><|TOK 12|><|TOK 13|><|TOK 14|><|TOK 15|><|TOK 16|><|TOK 17|><|TOK 18|><|TOK 19|>噉 𠻺 係 。 自己 儲 郵票 嘅 ， 就 唔 會 噉 𡃉 喇 。\\n<|TOK 200|><|TOK 201|><|TOK 202|><|TOK 203|><|TOK 204|><|TOK 205|><|TOK 206|><|TOK 207|><|TOK 208|><|TOK 209|>pron adv verb punct pron verb noun part punct adv adv aux pron part part punct',\n",
       "  '<|TOK 10|><|TOK 11|><|TOK 12|><|TOK 13|><|TOK 14|><|TOK 15|><|TOK 16|><|TOK 17|><|TOK 18|><|TOK 19|>跟住 然之後 佢 話 ， Holly 呢 ， 另外 嗰個 friend 呢 去 咗 哈爾濱 旅行 啊 。\\n<|TOK 200|><|TOK 201|><|TOK 202|><|TOK 203|><|TOK 204|><|TOK 205|><|TOK 206|><|TOK 207|><|TOK 208|><|TOK 209|>cconj cconj pron verb punct propn part punct cconj pron noun part verb part propn verb part punct',\n",
       "  '<|TOK 10|><|TOK 11|><|TOK 12|><|TOK 13|><|TOK 14|><|TOK 15|><|TOK 16|><|TOK 17|><|TOK 18|><|TOK 19|>嗯 ， 我 都 估 到 佢 - 其實 我 都 估 到 佢 冇 去 考 𡃉 嚹 。\\n<|TOK 200|><|TOK 201|><|TOK 202|><|TOK 203|><|TOK 204|><|TOK 205|><|TOK 206|><|TOK 207|><|TOK 208|><|TOK 209|>intj punct pron adv verb part pron punct adv pron adv verb part pron verb adp verb part part punct',\n",
       "  '<|TOK 10|><|TOK 11|><|TOK 12|><|TOK 13|><|TOK 14|><|TOK 15|><|TOK 16|><|TOK 17|><|TOK 18|><|TOK 19|>喂 ， 但係 點解 你 要 特登 提 出來 ， 因為 我哋 唔係 教徒 哩樣 嘢 呢 ？ 所以 先至 相信 。\\n<|TOK 200|><|TOK 201|><|TOK 202|><|TOK 203|><|TOK 204|><|TOK 205|><|TOK 206|><|TOK 207|><|TOK 208|><|TOK 209|>intj punct cconj pron pron aux adv verb verb punct cconj pron verb noun pron noun part punct cconj adv verb punct',\n",
       "  '<|TOK 10|><|TOK 11|><|TOK 12|><|TOK 13|><|TOK 14|><|TOK 15|><|TOK 16|><|TOK 17|><|TOK 18|><|TOK 19|>真係 。\\n<|TOK 200|><|TOK 201|><|TOK 202|><|TOK 203|><|TOK 204|><|TOK 205|><|TOK 206|><|TOK 207|><|TOK 208|><|TOK 209|>adv punct',\n",
       "  '<|TOK 10|><|TOK 11|><|TOK 12|><|TOK 13|><|TOK 14|><|TOK 15|><|TOK 16|><|TOK 17|><|TOK 18|><|TOK 19|>噉 你 就 ， 誒 ， 點樣 - 即係 你 影印 咗 一萬 個 - 唔係 ， 一千 個 copy 啊 。\\n<|TOK 200|><|TOK 201|><|TOK 202|><|TOK 203|><|TOK 204|><|TOK 205|><|TOK 206|><|TOK 207|><|TOK 208|><|TOK 209|>cconj pron adv punct intj punct pron punct cconj pron verb part num noun punct verb punct num noun noun part punct']}"
      ]
     },
     "execution_count": 16,
     "metadata": {},
     "output_type": "execute_result"
    }
   ],
   "source": [
    "eval_dataset[:10]"
   ]
  }
 ],
 "metadata": {
  "kernelspec": {
   "display_name": "tagllm",
   "language": "python",
   "name": "python3"
  },
  "language_info": {
   "codemirror_mode": {
    "name": "ipython",
    "version": 3
   },
   "file_extension": ".py",
   "mimetype": "text/x-python",
   "name": "python",
   "nbconvert_exporter": "python",
   "pygments_lexer": "ipython3",
   "version": "3.12.3"
  }
 },
 "nbformat": 4,
 "nbformat_minor": 2
}
