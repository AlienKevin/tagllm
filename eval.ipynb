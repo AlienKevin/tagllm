{
 "cells": [
  {
   "cell_type": "code",
   "execution_count": 1,
   "metadata": {},
   "outputs": [],
   "source": [
    "def get_prompt(english_input: str) -> str:\n",
    "    return f\"\"\"User:The motor has a broken piston. Let's get a repairman to fix it.\n",
    "\n",
    "    Assistant:個摩打有條活塞爆咗，揾個師傅嚟整整佢。<｜end▁of▁sentence｜>User:He has a husky, magnetic voice.\n",
    "\n",
    "    Assistant:佢把聲沙沙哋、沉沉哋，好有磁性。<｜end▁of▁sentence｜>User:A sugar cube is about the same amount as a teaspoon.\n",
    "\n",
    "    Assistant:一粒方糖差唔多係一茶匙糖咁滯。<｜end▁of▁sentence｜>User:{english_input}\n",
    "\n",
    "    Assistant:\"\"\""
   ]
  },
  {
   "cell_type": "code",
   "execution_count": 6,
   "metadata": {},
   "outputs": [],
   "source": [
    "import subprocess\n",
    "\n",
    "def infer(english_input: str) -> str:\n",
    "    prompt = get_prompt(english_input)\n",
    "    result = subprocess.run([\n",
    "        \"llama.cpp/main\",\n",
    "        \"-t\", \"10\",\n",
    "        \"-ngl\", \"64\",\n",
    "        \"-b\", \"512\",\n",
    "        \"-m\", \"models/deepseek-llm-7b-chat.Q5_K_M.gguf\",\n",
    "        \"--seed\", \"1\",\n",
    "        \"--temp\", \"0\",\n",
    "        \"--repeat_penalty\", \"1.1\",\n",
    "        \"-n\", \"-1\",\n",
    "        \"-p\", prompt\n",
    "    ], capture_output=True, text=True)\n",
    "    return result.stdout.split(\"\\n\\n    Assistant:\")[-1]\n"
   ]
  },
  {
   "cell_type": "code",
   "execution_count": 7,
   "metadata": {},
   "outputs": [
    {
     "data": {
      "text/plain": [
       "'我係個學生。'"
      ]
     },
     "execution_count": 7,
     "metadata": {},
     "output_type": "execute_result"
    }
   ],
   "source": [
    "infer(\"I am a student.\")"
   ]
  },
  {
   "cell_type": "markdown",
   "metadata": {},
   "source": [
    "# Start the Test"
   ]
  },
  {
   "cell_type": "code",
   "execution_count": 8,
   "metadata": {},
   "outputs": [],
   "source": [
    "from tqdm import tqdm"
   ]
  },
  {
   "cell_type": "code",
   "execution_count": 10,
   "metadata": {},
   "outputs": [
    {
     "name": "stderr",
     "output_type": "stream",
     "text": [
      "100%|██████████| 1500/1500 [47:21<00:00,  1.89s/it] \n"
     ]
    }
   ],
   "source": [
    "with open(\"wordshk-parallel-corpus/plus15/test.en.txt\", \"r\") as test_file:\n",
    "    test_lines = test_file.readlines()\n",
    "\n",
    "with open(\"results-3-shot.txt\", \"w\") as results_file:\n",
    "    for line in tqdm(test_lines):\n",
    "        result = infer(line.strip())\n",
    "        # Escape newlines just in case to not mess up line counts\n",
    "        results_file.write(result.replace(\"\\n\", \"\\\\n\") + \"\\n\")\n",
    "        results_file.flush()"
   ]
  }
 ],
 "metadata": {
  "kernelspec": {
   "display_name": "deepseek",
   "language": "python",
   "name": "python3"
  },
  "language_info": {
   "codemirror_mode": {
    "name": "ipython",
    "version": 3
   },
   "file_extension": ".py",
   "mimetype": "text/x-python",
   "name": "python",
   "nbconvert_exporter": "python",
   "pygments_lexer": "ipython3",
   "version": "3.12.2"
  }
 },
 "nbformat": 4,
 "nbformat_minor": 2
}
