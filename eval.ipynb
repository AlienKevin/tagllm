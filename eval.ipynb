{
 "cells": [
  {
   "cell_type": "code",
   "execution_count": 12,
   "metadata": {},
   "outputs": [],
   "source": [
    "def get_deepseek_prompt(english_input: str) -> str:\n",
    "    return f\"\"\"User:The motor has a broken piston. Let's get a repairman to fix it.\n",
    "\n",
    "    Assistant:個摩打有條活塞爆咗，揾個師傅嚟整整佢。<｜end▁of▁sentence｜>User:He has a husky, magnetic voice.\n",
    "\n",
    "    Assistant:佢把聲沙沙哋、沉沉哋，好有磁性。<｜end▁of▁sentence｜>User:A sugar cube is about the same amount as a teaspoon.\n",
    "\n",
    "    Assistant:一粒方糖差唔多係一茶匙糖咁滯。<｜end▁of▁sentence｜>User:{english_input}\n",
    "\n",
    "    Assistant:\"\"\""
   ]
  },
  {
   "cell_type": "code",
   "execution_count": 15,
   "metadata": {},
   "outputs": [],
   "source": [
    "def get_llama2_prompt(english_input: str) -> str:\n",
    "    return f\"\"\"<s>[INST] <<SYS>>You are are a helpful assistant that translate English into Cantonese.<</SYS>>\n",
    "The motor has a broken piston. Let's get a repairman to fix it. [/INST] 個摩打有條活塞爆咗，揾個師傅嚟整整佢。 </s>\n",
    "<s>[INST] He has a husky, magnetic voice. [/INST] 佢把聲沙沙哋、沉沉哋，好有磁性。 </s>\n",
    "<s> [INST] A sugar cube is about the same amount as a teaspoon. [/INST] 一粒方糖差唔多係一茶匙糖咁滯。 </s>\n",
    "<s> [INST] {english_input} [/INST]\"\"\""
   ]
  },
  {
   "cell_type": "code",
   "execution_count": 35,
   "metadata": {},
   "outputs": [],
   "source": [
    "import subprocess\n",
    "\n",
    "def infer(english_input: str) -> str:\n",
    "    # prompt = get_deepseek_prompt(english_input)\n",
    "    prompt = get_llama2_prompt(english_input)\n",
    "    result = subprocess.run([\n",
    "        \"../llama.cpp/main\",\n",
    "        \"-t\", \"10\",\n",
    "        \"-ngl\", \"64\",\n",
    "        \"-b\", \"512\",\n",
    "        \"--n-predict\", \"50\",\n",
    "        # \"-m\", \"models/deepseek-llm-7b-chat.Q5_K_M.gguf\",\n",
    "        \"-m\", \"../../../../models/llama-2-7b-chat.Q5_K_M.gguf\",\n",
    "        \"--seed\", \"1\",\n",
    "        \"--temp\", \"0\",\n",
    "        \"--repeat_penalty\", \"1.1\",\n",
    "        \"-p\", prompt\n",
    "    ], stdout=subprocess.PIPE, stderr=subprocess.PIPE)\n",
    "    stdout = result.stdout.decode('utf-8', errors='replace')\n",
    "    # return stdout.split(\"\\n\\n    Assistant:\")[-1]\n",
    "    return stdout.split(\"[/INST] \")[-1]\n"
   ]
  },
  {
   "cell_type": "code",
   "execution_count": 36,
   "metadata": {},
   "outputs": [
    {
     "data": {
      "text/plain": [
       "'你是學生。'"
      ]
     },
     "execution_count": 36,
     "metadata": {},
     "output_type": "execute_result"
    }
   ],
   "source": [
    "infer(\"I am a student.\")"
   ]
  },
  {
   "cell_type": "markdown",
   "metadata": {},
   "source": [
    "# Start the Test"
   ]
  },
  {
   "cell_type": "code",
   "execution_count": 22,
   "metadata": {},
   "outputs": [],
   "source": [
    "from tqdm import tqdm"
   ]
  },
  {
   "cell_type": "code",
   "execution_count": 37,
   "metadata": {},
   "outputs": [
    {
     "name": "stderr",
     "output_type": "stream",
     "text": [
      "100%|██████████| 1500/1500 [50:40<00:00,  2.03s/it]\n"
     ]
    }
   ],
   "source": [
    "with open(\"wordshk-eng-yue/plus15/test.en.txt\", \"r\") as test_file:\n",
    "    test_lines = test_file.readlines()\n",
    "\n",
    "with open(\"results-3-shot.txt\", \"w\") as results_file:\n",
    "    for line in tqdm(test_lines):\n",
    "        result = infer(line.strip())\n",
    "        # Escape newlines just in case to not mess up line counts\n",
    "        results_file.write(result.replace(\"\\n\", \"\\\\n\") + \"\\n\")\n",
    "        results_file.flush()"
   ]
  }
 ],
 "metadata": {
  "kernelspec": {
   "display_name": "deepseek",
   "language": "python",
   "name": "python3"
  },
  "language_info": {
   "codemirror_mode": {
    "name": "ipython",
    "version": 3
   },
   "file_extension": ".py",
   "mimetype": "text/x-python",
   "name": "python",
   "nbconvert_exporter": "python",
   "pygments_lexer": "ipython3",
   "version": "3.12.2"
  }
 },
 "nbformat": 4,
 "nbformat_minor": 2
}
