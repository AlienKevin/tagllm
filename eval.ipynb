{
 "cells": [
  {
   "cell_type": "code",
   "execution_count": 8,
   "metadata": {},
   "outputs": [],
   "source": [
    "def get_deepseek_prompt(english_input: str) -> str:\n",
    "    return f\"\"\"User:The motor has a broken piston. Let's get a repairman to fix it.\n",
    "\n",
    "    Assistant:個摩打有條活塞爆咗，揾個師傅嚟整整佢。<｜end▁of▁sentence｜>User:He has a husky, magnetic voice.\n",
    "\n",
    "    Assistant:佢把聲沙沙哋、沉沉哋，好有磁性。<｜end▁of▁sentence｜>User:A sugar cube is about the same amount as a teaspoon.\n",
    "\n",
    "    Assistant:一粒方糖差唔多係一茶匙糖咁滯。<｜end▁of▁sentence｜>User:{english_input}\n",
    "\n",
    "    Assistant:\"\"\""
   ]
  },
  {
   "cell_type": "code",
   "execution_count": 27,
   "metadata": {},
   "outputs": [],
   "source": [
    "def get_llama1_prompt(english_input: str) -> str:\n",
    "    return f\"\"\"User:The motor has a broken piston. Let's get a repairman to fix it.\n",
    "Assistant:個摩打有條活塞爆咗，揾個師傅嚟整整佢。\n",
    "\n",
    "User:He has a husky, magnetic voice.\n",
    "Assistant:佢把聲沙沙哋、沉沉哋，好有磁性。\n",
    "\n",
    "User:A sugar cube is about the same amount as a teaspoon.\n",
    "Assistant:一粒方糖差唔多係一茶匙糖咁滯。\n",
    "\n",
    "User:{english_input}\n",
    "Assistant:\"\"\""
   ]
  },
  {
   "cell_type": "code",
   "execution_count": 9,
   "metadata": {},
   "outputs": [],
   "source": [
    "def get_llama2_prompt(english_input: str) -> str:\n",
    "    return f\"\"\"<s>[INST] <<SYS>>You are are a helpful assistant that translate English into Cantonese.<</SYS>>\n",
    "The motor has a broken piston. Let's get a repairman to fix it. [/INST] 個摩打有條活塞爆咗，揾個師傅嚟整整佢。 </s>\n",
    "<s>[INST] He has a husky, magnetic voice. [/INST] 佢把聲沙沙哋、沉沉哋，好有磁性。 </s>\n",
    "<s> [INST] A sugar cube is about the same amount as a teaspoon. [/INST] 一粒方糖差唔多係一茶匙糖咁滯。 </s>\n",
    "<s> [INST] {english_input} [/INST]\"\"\""
   ]
  },
  {
   "cell_type": "code",
   "execution_count": 10,
   "metadata": {},
   "outputs": [],
   "source": [
    "def get_llama3_prompt(english_input: str) -> str:\n",
    "    return f\"\"\"<|begin_of_text|>\n",
    "<|start_header_id|>system<|end_header_id|>\n",
    "\n",
    "You are are a helpful assistant that translates English into Cantonese.<|eot_id|>\n",
    "<|start_header_id|>user<|end_header_id|>\n",
    "\n",
    "The motor has a broken piston. Let's get a repairman to fix it.<|eot_id|>\n",
    "<|start_header_id|>assistant<|end_header_id|>\n",
    "\n",
    "個摩打有條活塞爆咗，揾個師傅嚟整整佢。<|eot_id|>\n",
    "<|start_header_id|>user<|end_header_id|>\n",
    "\n",
    "He has a husky, magnetic voice. <|eot_id|>\n",
    "<|start_header_id|>assistant<|end_header_id|>\n",
    "\n",
    "佢把聲沙沙哋、沉沉哋，好有磁性。<|eot_id|>\n",
    "<|start_header_id|>user<|end_header_id|>\n",
    "\n",
    "A sugar cube is about the same amount as a teaspoon.<|eot_id|>\n",
    "<|start_header_id|>assistant<|end_header_id|>\n",
    "\n",
    "一粒方糖差唔多係一茶匙糖咁滯。<|eot_id|>\n",
    "<|start_header_id|>user<|end_header_id|>\n",
    "\n",
    "{english_input}<|eot_id|>\n",
    "<|start_header_id|>assistant<|end_header_id|>\"\"\""
   ]
  },
  {
   "cell_type": "code",
   "execution_count": 41,
   "metadata": {},
   "outputs": [],
   "source": [
    "import subprocess\n",
    "\n",
    "def infer(english_input: str) -> str:\n",
    "    # prompt = get_deepseek_prompt(english_input)\n",
    "    prompt = get_llama1_prompt(english_input)\n",
    "    result = subprocess.run([\n",
    "        \"../llama.cpp/main\",\n",
    "        \"-t\", \"10\",\n",
    "        \"-ngl\", \"64\",\n",
    "        \"-b\", \"512\",\n",
    "        \"--n-predict\", \"50\",\n",
    "        # \"-m\", \"models/deepseek-llm-7b-chat.Q5_K_M.gguf\",\n",
    "        # \"-m\", \"../../../../models/llama-3-7b-chat.Q5_K_M.gguf\",\n",
    "        # \"-m\", \"../../../../models/llama-3-8b-Instruct.Q5_K_M.gguf\",\n",
    "        \"-m\", \"../../../../models/llama-7b.Q5_K_M.gguf\",\n",
    "        \"--seed\", \"1\",\n",
    "        \"--temp\", \"0\",\n",
    "        \"--repeat_penalty\", \"1.1\",\n",
    "        \"-p\", prompt\n",
    "    ], stdout=subprocess.PIPE, stderr=subprocess.PIPE)\n",
    "    stdout = result.stdout.decode('utf-8', errors='replace')\n",
    "\n",
    "    # return stdout.split(\"\\n\\n    Assistant:\")[-1]\n",
    "\n",
    "    # return stdout.split(\"[/INST] \")[-1]\n",
    "\n",
    "    # prefix = f\"\\nsystem\\n\\nYou are are a helpful assistant that translates English into Cantonese.\\nuser\\n\\nThe motor has a broken piston. Let's get a repairman to fix it.\\nassistant\\n\\n個摩打有條活塞爆咗，揾個師傅嚟整整佢。\\nuser\\n\\nHe has a husky, magnetic voice. \\nassistant\\n\\n佢把聲沙沙哋、沉沉哋，好有磁性。\\nuser\\n\\nA sugar cube is about the same amount as a teaspoon.\\nassistant\\n\\n一粒方糖差唔多係一茶匙糖咁滯。\\nuser\\n\\n{english_input}\\nassistant\\n\\n\"\n",
    "    # return stdout.removeprefix(prefix).split('assistant\\n\\n', maxsplit=1)[0].strip()\n",
    "\n",
    "    prefix = f\" User:The motor has a broken piston. Let's get a repairman to fix it.\\nAssistant:個摩打有條活塞爆咗，揾個師傅嚟整整佢。\\n\\nUser:He has a husky, magnetic voice.\\nAssistant:佢把聲沙沙哋、沉沉哋，好有磁性。\\n\\nUser:A sugar cube is about the same amount as a teaspoon.\\nAssistant:一粒方糖差唔多係一茶匙糖咁滯。\\n\\nUser:{english_input}\\nAssistant:\"\n",
    "    return stdout.removeprefix(prefix).split('\\n\\n', maxsplit=1)[0].strip()\n"
   ]
  },
  {
   "cell_type": "code",
   "execution_count": 42,
   "metadata": {},
   "outputs": [
    {
     "data": {
      "text/plain": [
       "'我係學生。'"
      ]
     },
     "execution_count": 42,
     "metadata": {},
     "output_type": "execute_result"
    }
   ],
   "source": [
    "infer(\"I am a student.\")"
   ]
  },
  {
   "cell_type": "markdown",
   "metadata": {},
   "source": [
    "# Start the Test"
   ]
  },
  {
   "cell_type": "code",
   "execution_count": 43,
   "metadata": {},
   "outputs": [],
   "source": [
    "from tqdm import tqdm"
   ]
  },
  {
   "cell_type": "code",
   "execution_count": 44,
   "metadata": {},
   "outputs": [
    {
     "name": "stderr",
     "output_type": "stream",
     "text": [
      "100%|██████████| 1500/1500 [56:10<00:00,  2.25s/it]\n"
     ]
    }
   ],
   "source": [
    "with open(\"wordshk-eng-yue/plus15/test.en.txt\", \"r\") as test_file:\n",
    "    test_lines = test_file.readlines()\n",
    "\n",
    "with open(\"results-3-shot.txt\", \"w\") as results_file:\n",
    "    for line in tqdm(test_lines):\n",
    "        result = infer(line.strip())\n",
    "        # Escape newlines just in case to not mess up line counts\n",
    "        results_file.write(result.replace(\"\\n\", \"\\\\n\") + \"\\n\")\n",
    "        results_file.flush()"
   ]
  }
 ],
 "metadata": {
  "kernelspec": {
   "display_name": "deepseek",
   "language": "python",
   "name": "python3"
  },
  "language_info": {
   "codemirror_mode": {
    "name": "ipython",
    "version": 3
   },
   "file_extension": ".py",
   "mimetype": "text/x-python",
   "name": "python",
   "nbconvert_exporter": "python",
   "pygments_lexer": "ipython3",
   "version": "3.12.2"
  }
 },
 "nbformat": 4,
 "nbformat_minor": 2
}
