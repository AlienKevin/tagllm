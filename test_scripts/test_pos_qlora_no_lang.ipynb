{
 "cells": [
  {
   "cell_type": "code",
   "execution_count": 1,
   "id": "ce69b81e-1902-460b-809e-e83050cb6774",
   "metadata": {},
   "outputs": [],
   "source": [
    "!pip install -qqq -U transformers datasets huggingface_hub accelerate bitsandbytes tqdm --progress-bar off\n",
    "!FLASH_ATTENTION_SKIP_CUDA_BUILD=TRUE pip install -qqq -U flash-attn --no-build-isolation pip install flash-attn --progress-bar off"
   ]
  },
  {
   "cell_type": "code",
   "execution_count": 2,
   "id": "00d8cbae-9484-4013-9cdd-4057653463f0",
   "metadata": {},
   "outputs": [
    {
     "data": {
      "application/vnd.jupyter.widget-view+json": {
       "model_id": "2ab7cdd919034060bdd3fd471c88598a",
       "version_major": 2,
       "version_minor": 0
      },
      "text/plain": [
       "VBox(children=(HTML(value='<center> <img\\nsrc=https://huggingface.co/front/assets/huggingface_logo-noborder.sv…"
      ]
     },
     "metadata": {},
     "output_type": "display_data"
    }
   ],
   "source": [
    "from huggingface_hub import login\n",
    "login()"
   ]
  },
  {
   "cell_type": "code",
   "execution_count": 3,
   "id": "d821f3dc-9b0c-46ef-b916-273c13c36bc2",
   "metadata": {},
   "outputs": [
    {
     "name": "stderr",
     "output_type": "stream",
     "text": [
      "Special tokens have been added in the vocabulary, make sure the associated word embeddings are fine-tuned or trained.\n"
     ]
    },
    {
     "data": {
      "application/vnd.jupyter.widget-view+json": {
       "model_id": "72d3831d107e4250b2ca4d8b8228e2d3",
       "version_major": 2,
       "version_minor": 0
      },
      "text/plain": [
       "Loading checkpoint shards:   0%|          | 0/4 [00:00<?, ?it/s]"
      ]
     },
     "metadata": {},
     "output_type": "display_data"
    },
    {
     "name": "stderr",
     "output_type": "stream",
     "text": [
      "/opt/conda/lib/python3.10/site-packages/peft/tuners/lora/bnb.py:325: UserWarning: Merge lora module to 4-bit linear may get different generations due to rounding errors.\n",
      "  warnings.warn(\n"
     ]
    }
   ],
   "source": [
    "import transformers\n",
    "import torch\n",
    "from peft import PeftModel\n",
    "\n",
    "# Set torch dtype and attention implementation\n",
    "if torch.cuda.get_device_capability()[0] >= 8:\n",
    "    !pip install -qqq flash-attn\n",
    "    torch_dtype = torch.bfloat16\n",
    "    attn_implementation = \"flash_attention_2\"\n",
    "else:\n",
    "    torch_dtype = torch.float16\n",
    "    attn_implementation = \"eager\"\n",
    "\n",
    "base_model = \"meta-llama/Meta-Llama-3-8B\"\n",
    "new_model = \"Meta-Llama-3-8B-qlora-pos-no-lang\"\n",
    "\n",
    "bnb_config = transformers.BitsAndBytesConfig(\n",
    "    load_in_4bit=True,\n",
    "    bnb_4bit_quant_type=\"nf4\",\n",
    "    bnb_4bit_compute_dtype=torch_dtype,\n",
    "    bnb_4bit_use_double_quant=True,\n",
    ")\n",
    "\n",
    "tokenizer = transformers.AutoTokenizer.from_pretrained(base_model, padding_side='left')\n",
    "\n",
    "model = transformers.AutoModelForCausalLM.from_pretrained(\n",
    "    base_model,\n",
    "    quantization_config=bnb_config,\n",
    "    device_map=\"auto\",\n",
    "    attn_implementation=attn_implementation,\n",
    ")\n",
    "model = PeftModel.from_pretrained(model, new_model)\n",
    "model = model.merge_and_unload()\n",
    "\n",
    "pipeline = transformers.pipeline(\n",
    "    \"text-generation\",\n",
    "    model=model,\n",
    "    tokenizer=tokenizer,\n",
    ")"
   ]
  },
  {
   "cell_type": "code",
   "execution_count": 4,
   "id": "14563d80-8385-4d03-bc02-5a1d3bc4755a",
   "metadata": {},
   "outputs": [],
   "source": [
    "from datasets import load_dataset, features\n",
    "\n",
    "def patch_v(tag):\n",
    "    if tag == 'V':\n",
    "        return 'VERB'\n",
    "    else:\n",
    "        return tag\n",
    "\n",
    "def get_dataset(num_existing_tokens=0):\n",
    "    dataset = load_dataset(\"hkcancor\", \"default\")\n",
    "\n",
    "    single_lang = [\"eng\", \"yue\", \"cmn\"]\n",
    "\n",
    "    tag_name_dict = {}\n",
    "    for lang in single_lang:\n",
    "        tag_name_dict[lang] = f'{lang}:'\n",
    "\n",
    "    source_upos = dataset['train'].features[\"pos_tags_ud\"].feature\n",
    "    print(\"Source upos:\", source_upos)\n",
    "\n",
    "    def preprocess_function(example):\n",
    "        example[\"input\"] = tag_name_dict[\"yue\"] + ' '.join(example[\"tokens\"]) + \"\\n\" + \\\n",
    "            \"pos:\" + ' '.join(patch_v(source_upos.int2str(tag)).lower()\n",
    "            for tag in example[\"pos_tags_ud\"])\n",
    "        return example\n",
    "    \n",
    "    dataset['train'] = dataset['train'].map(preprocess_function, remove_columns=\n",
    "        ['tokens', 'conversation_id', 'pos_tags_prf', 'pos_tags_ud', 'speaker', 'transcriptions', 'turn_number', 'tokens'])\n",
    "\n",
    "    dataset['train'] = dataset['train'].shuffle(42)\n",
    "    dataset['train'] = dataset['train'].select(range(10))\n",
    "    prompt = '\\n'.join(example['input'] for example in dataset['train'].take(10)) + '\\n'\n",
    "    print(prompt)\n",
    "    \n",
    "    dataset = load_dataset(\"universal_dependencies\", \"yue_hk\")\n",
    "    test_dataset = dataset[\"test\"]\n",
    "\n",
    "    def preprocess_function(examples):\n",
    "        examples[\"inputs\"] = [prompt + \"yue:\" + ' '.join(examples[\"tokens\"][i]) + \"\\n\" + \"pos:\" for i in range(len(examples[\"tokens\"]))]\n",
    "        return examples\n",
    "    \n",
    "    test_dataset = test_dataset.map(preprocess_function, remove_columns=\n",
    "        ['idx', 'text', 'tokens', 'lemmas', 'upos', 'xpos', 'feats', 'head', 'deprel', 'deps', 'misc'], batched=True)\n",
    "\n",
    "    return prompt, test_dataset, tag_name_dict"
   ]
  },
  {
   "cell_type": "code",
   "execution_count": 5,
   "id": "639b897d",
   "metadata": {},
   "outputs": [
    {
     "name": "stdout",
     "output_type": "stream",
     "text": [
      "Source upos: ClassLabel(names=['NUM', 'ADP', 'INTJ', 'PROPN', 'ADJ', 'V', 'DET', 'ADV', 'CCONJ', 'PRON', 'X', 'PART', 'AUX', 'VERB', 'NOUN', 'PUNCT'], id=None)\n",
      "yue:啲 - 啲 sales 嘅 質素 下降 ， 會 唔 會 好似 同 醫管局 嗰啲 …\n",
      "pos:noun punct noun noun part noun verb punct aux adv aux verb adp propn pron punct\n",
      "yue:唉 ， 有 乜嘢 辦法 啊 ， 興 吖 嗎 ， 咁 興 啊 。\n",
      "pos:intj punct verb pron noun part punct verb part part punct adv verb part punct\n",
      "yue:夠 嚹 。\n",
      "pos:verb part punct\n",
      "yue:噉 另外 就 同 佢 太太 之間 呢 亦都 有 個 中年 婚姻 危機 𡃉 。 即係 覺得 太太 ， 冇 理由 我 太太 會 重 - 重 愛 我 吖 。 即係 我 事業 又 唔 得 ， 要 樣 冇 樣 ， 要 錢 冇 錢 噉樣 。 噉 另外 有 個 黑人 嘅 。 就 係 鬍鬚 阿伯 ， 就 成 五十 歲 嘅 。 點解 會 揾 到 佢 ？ 因為 佢 要 揾 個 人 教 跳舞 吖 嗎 。 而 哩個 阿伯 係 識 跳 所有 爵士舞 ， 只不過 係 因為 骨頭 硬 。 即係 跳 起 身 ， 跌落 地下 之後 就 起 唔 到 身 𡃉 嘞 。 但係 之前 嗰 段 係 得 嘅 。\n",
      "pos:cconj cconj adv adp pron noun adv part adv verb noun noun noun noun part punct cconj verb noun punct verb noun pron noun aux adv punct adv verb pron part punct cconj pron noun adv adv verb punct aux noun verb noun punct aux noun verb noun cconj punct cconj cconj verb noun noun part punct adv verb noun noun punct adv num num noun part punct pron aux verb part pron punct cconj pron aux verb noun noun verb verb part part punct cconj pron noun verb verb verb adj noun punct adv verb cconj noun adj punct cconj verb verb noun punct verb noun adv adv verb adv part noun part part punct cconj adv pron noun verb aux part punct\n",
      "yue:噉 𠻺 係 。 自己 儲 郵票 嘅 ， 就 唔 會 噉 𡃉 喇 。\n",
      "pos:pron adv verb punct pron verb noun part punct adv adv aux pron part part punct\n",
      "yue:跟住 然之後 佢 話 ， Holly 呢 ， 另外 嗰個 friend 呢 去 咗 哈爾濱 旅行 啊 。\n",
      "pos:cconj cconj pron verb punct propn part punct cconj pron noun part verb part propn verb part punct\n",
      "yue:嗯 ， 我 都 估 到 佢 - 其實 我 都 估 到 佢 冇 去 考 𡃉 嚹 。\n",
      "pos:intj punct pron adv verb part pron punct adv pron adv verb part pron verb adp verb part part punct\n",
      "yue:喂 ， 但係 點解 你 要 特登 提 出來 ， 因為 我哋 唔係 教徒 哩樣 嘢 呢 ？ 所以 先至 相信 。\n",
      "pos:intj punct cconj pron pron aux adv verb verb punct cconj pron verb noun pron noun part punct cconj adv verb punct\n",
      "yue:真係 。\n",
      "pos:adv punct\n",
      "yue:噉 你 就 ， 誒 ， 點樣 - 即係 你 影印 咗 一萬 個 - 唔係 ， 一千 個 copy 啊 。\n",
      "pos:cconj pron adv punct intj punct pron punct cconj pron verb part num noun punct verb punct num noun noun part punct\n",
      "\n"
     ]
    }
   ],
   "source": [
    "prompt, eval_dataset, tag_name_dict = get_dataset()"
   ]
  },
  {
   "cell_type": "code",
   "execution_count": 6,
   "id": "eecc95da-b9bd-40dc-acab-3aed3186b9ba",
   "metadata": {},
   "outputs": [
    {
     "data": {
      "text/plain": [
       "Dataset({\n",
       "    features: ['inputs'],\n",
       "    num_rows: 1004\n",
       "})"
      ]
     },
     "execution_count": 6,
     "metadata": {},
     "output_type": "execute_result"
    }
   ],
   "source": [
    "eval_dataset"
   ]
  },
  {
   "cell_type": "code",
   "execution_count": 7,
   "id": "7dd1a9f7-8d17-4023-984c-0ce1a4bb0dde",
   "metadata": {},
   "outputs": [
    {
     "data": {
      "text/plain": [
       "{'inputs': ['yue:啲 - 啲 sales 嘅 質素 下降 ， 會 唔 會 好似 同 醫管局 嗰啲 …\\npos:noun punct noun noun part noun verb punct aux adv aux verb adp propn pron punct\\nyue:唉 ， 有 乜嘢 辦法 啊 ， 興 吖 嗎 ， 咁 興 啊 。\\npos:intj punct verb pron noun part punct verb part part punct adv verb part punct\\nyue:夠 嚹 。\\npos:verb part punct\\nyue:噉 另外 就 同 佢 太太 之間 呢 亦都 有 個 中年 婚姻 危機 𡃉 。 即係 覺得 太太 ， 冇 理由 我 太太 會 重 - 重 愛 我 吖 。 即係 我 事業 又 唔 得 ， 要 樣 冇 樣 ， 要 錢 冇 錢 噉樣 。 噉 另外 有 個 黑人 嘅 。 就 係 鬍鬚 阿伯 ， 就 成 五十 歲 嘅 。 點解 會 揾 到 佢 ？ 因為 佢 要 揾 個 人 教 跳舞 吖 嗎 。 而 哩個 阿伯 係 識 跳 所有 爵士舞 ， 只不過 係 因為 骨頭 硬 。 即係 跳 起 身 ， 跌落 地下 之後 就 起 唔 到 身 𡃉 嘞 。 但係 之前 嗰 段 係 得 嘅 。\\npos:cconj cconj adv adp pron noun adv part adv verb noun noun noun noun part punct cconj verb noun punct verb noun pron noun aux adv punct adv verb pron part punct cconj pron noun adv adv verb punct aux noun verb noun punct aux noun verb noun cconj punct cconj cconj verb noun noun part punct adv verb noun noun punct adv num num noun part punct pron aux verb part pron punct cconj pron aux verb noun noun verb verb part part punct cconj pron noun verb verb verb adj noun punct adv verb cconj noun adj punct cconj verb verb noun punct verb noun adv adv verb adv part noun part part punct cconj adv pron noun verb aux part punct\\nyue:噉 𠻺 係 。 自己 儲 郵票 嘅 ， 就 唔 會 噉 𡃉 喇 。\\npos:pron adv verb punct pron verb noun part punct adv adv aux pron part part punct\\nyue:跟住 然之後 佢 話 ， Holly 呢 ， 另外 嗰個 friend 呢 去 咗 哈爾濱 旅行 啊 。\\npos:cconj cconj pron verb punct propn part punct cconj pron noun part verb part propn verb part punct\\nyue:嗯 ， 我 都 估 到 佢 - 其實 我 都 估 到 佢 冇 去 考 𡃉 嚹 。\\npos:intj punct pron adv verb part pron punct adv pron adv verb part pron verb adp verb part part punct\\nyue:喂 ， 但係 點解 你 要 特登 提 出來 ， 因為 我哋 唔係 教徒 哩樣 嘢 呢 ？ 所以 先至 相信 。\\npos:intj punct cconj pron pron aux adv verb verb punct cconj pron verb noun pron noun part punct cconj adv verb punct\\nyue:真係 。\\npos:adv punct\\nyue:噉 你 就 ， 誒 ， 點樣 - 即係 你 影印 咗 一萬 個 - 唔係 ， 一千 個 copy 啊 。\\npos:cconj pron adv punct intj punct pron punct cconj pron verb part num noun punct verb punct num noun noun part punct\\nyue:你 喺度 搵 乜嘢 呀 ？\\npos:',\n",
       "  'yue:啲 - 啲 sales 嘅 質素 下降 ， 會 唔 會 好似 同 醫管局 嗰啲 …\\npos:noun punct noun noun part noun verb punct aux adv aux verb adp propn pron punct\\nyue:唉 ， 有 乜嘢 辦法 啊 ， 興 吖 嗎 ， 咁 興 啊 。\\npos:intj punct verb pron noun part punct verb part part punct adv verb part punct\\nyue:夠 嚹 。\\npos:verb part punct\\nyue:噉 另外 就 同 佢 太太 之間 呢 亦都 有 個 中年 婚姻 危機 𡃉 。 即係 覺得 太太 ， 冇 理由 我 太太 會 重 - 重 愛 我 吖 。 即係 我 事業 又 唔 得 ， 要 樣 冇 樣 ， 要 錢 冇 錢 噉樣 。 噉 另外 有 個 黑人 嘅 。 就 係 鬍鬚 阿伯 ， 就 成 五十 歲 嘅 。 點解 會 揾 到 佢 ？ 因為 佢 要 揾 個 人 教 跳舞 吖 嗎 。 而 哩個 阿伯 係 識 跳 所有 爵士舞 ， 只不過 係 因為 骨頭 硬 。 即係 跳 起 身 ， 跌落 地下 之後 就 起 唔 到 身 𡃉 嘞 。 但係 之前 嗰 段 係 得 嘅 。\\npos:cconj cconj adv adp pron noun adv part adv verb noun noun noun noun part punct cconj verb noun punct verb noun pron noun aux adv punct adv verb pron part punct cconj pron noun adv adv verb punct aux noun verb noun punct aux noun verb noun cconj punct cconj cconj verb noun noun part punct adv verb noun noun punct adv num num noun part punct pron aux verb part pron punct cconj pron aux verb noun noun verb verb part part punct cconj pron noun verb verb verb adj noun punct adv verb cconj noun adj punct cconj verb verb noun punct verb noun adv adv verb adv part noun part part punct cconj adv pron noun verb aux part punct\\nyue:噉 𠻺 係 。 自己 儲 郵票 嘅 ， 就 唔 會 噉 𡃉 喇 。\\npos:pron adv verb punct pron verb noun part punct adv adv aux pron part part punct\\nyue:跟住 然之後 佢 話 ， Holly 呢 ， 另外 嗰個 friend 呢 去 咗 哈爾濱 旅行 啊 。\\npos:cconj cconj pron verb punct propn part punct cconj pron noun part verb part propn verb part punct\\nyue:嗯 ， 我 都 估 到 佢 - 其實 我 都 估 到 佢 冇 去 考 𡃉 嚹 。\\npos:intj punct pron adv verb part pron punct adv pron adv verb part pron verb adp verb part part punct\\nyue:喂 ， 但係 點解 你 要 特登 提 出來 ， 因為 我哋 唔係 教徒 哩樣 嘢 呢 ？ 所以 先至 相信 。\\npos:intj punct cconj pron pron aux adv verb verb punct cconj pron verb noun pron noun part punct cconj adv verb punct\\nyue:真係 。\\npos:adv punct\\nyue:噉 你 就 ， 誒 ， 點樣 - 即係 你 影印 咗 一萬 個 - 唔係 ， 一千 個 copy 啊 。\\npos:cconj pron adv punct intj punct pron punct cconj pron verb part num noun punct verb punct num noun noun part punct\\nyue:咪 執 返 啲 嘢 去 阿哥 個 新 屋 度 囖 。\\npos:']}"
      ]
     },
     "execution_count": 7,
     "metadata": {},
     "output_type": "execute_result"
    }
   ],
   "source": [
    "eval_dataset[:2]"
   ]
  },
  {
   "cell_type": "code",
   "execution_count": 8,
   "id": "f6cccb0a-ee04-4667-858a-cf77bafd2054",
   "metadata": {},
   "outputs": [],
   "source": [
    "# https://huggingface.co/PygmalionAI/pygmalion-6b/discussions/25#64387bf26c8841ba74e7d9c0\n",
    "from transformers import StoppingCriteria\n",
    "\n",
    "class TranslationStoppingCriteria(StoppingCriteria):\n",
    "    def __init__(self, prompt):\n",
    "        self.prompt = prompt\n",
    "        \n",
    "    def __call__(self, input_ids, scores, **kwargs):\n",
    "        # Get the generated text as a string\n",
    "        generated_text = tokenizer.decode(input_ids[0])\n",
    "        generated_text = generated_text.removeprefix(prompt)\n",
    "        if generated_text.endswith('\\n'):\n",
    "            return True  # Stop generation\n",
    "        return False  # Continue generation\n",
    "    \n",
    "    def __len__(self):\n",
    "        return 1\n",
    "    \n",
    "    def __iter__(self):\n",
    "        yield self"
   ]
  },
  {
   "cell_type": "code",
   "execution_count": 9,
   "id": "1e7ddec9-4a6e-484a-af2d-05b51b068553",
   "metadata": {},
   "outputs": [
    {
     "name": "stderr",
     "output_type": "stream",
     "text": [
      "100%|██████████| 1004/1004 [19:50<00:00,  1.19s/it]\n"
     ]
    }
   ],
   "source": [
    "from transformers.pipelines.pt_utils import KeyDataset\n",
    "from tqdm import tqdm\n",
    "import json\n",
    "\n",
    "outputs = pipeline(\n",
    "    KeyDataset(eval_dataset, \"inputs\"),\n",
    "    max_new_tokens=128,\n",
    "    do_sample=True,\n",
    "    temperature=0.6,\n",
    "    top_p=0.9,\n",
    "    stopping_criteria=TranslationStoppingCriteria(prompt),\n",
    "    pad_token_id=tokenizer.eos_token_id,\n",
    ")\n",
    "\n",
    "def parse_translation(text):\n",
    "    lines = text.strip().split('\\n')\n",
    "    result = { 'langs': [], 'sents': [] }\n",
    "    \n",
    "    for line in lines:\n",
    "        if ':' in line:\n",
    "            lang, content = line.split(':', 1)\n",
    "            if lang in ['yue', 'pos']:\n",
    "                result['langs'].append(lang)\n",
    "                result['sents'].append(content.strip())\n",
    "    \n",
    "    return result\n",
    "\n",
    "with open(f'pos_{new_model}.jsonl', 'w+') as f:\n",
    "    for output in tqdm(outputs, total=len(eval_dataset)):\n",
    "        generated_text = output[0]['generated_text']\n",
    "        generated_text = generated_text.removeprefix(prompt)\n",
    "        f.write(json.dumps(parse_translation(generated_text)) + '\\n')\n",
    "        f.flush()"
   ]
  }
 ],
 "metadata": {
  "kernelspec": {
   "display_name": "Python 3 (ipykernel)",
   "language": "python",
   "name": "python3"
  },
  "language_info": {
   "codemirror_mode": {
    "name": "ipython",
    "version": 3
   },
   "file_extension": ".py",
   "mimetype": "text/x-python",
   "name": "python",
   "nbconvert_exporter": "python",
   "pygments_lexer": "ipython3",
   "version": "3.10.13"
  }
 },
 "nbformat": 4,
 "nbformat_minor": 5
}
