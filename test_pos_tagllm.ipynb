{
 "cells": [
  {
   "cell_type": "code",
   "execution_count": 1,
   "id": "ce69b81e-1902-460b-809e-e83050cb6774",
   "metadata": {},
   "outputs": [],
   "source": [
    "!pip install -qqq -U transformers datasets huggingface_hub accelerate bitsandbytes tqdm --progress-bar off\n",
    "!FLASH_ATTENTION_SKIP_CUDA_BUILD=TRUE pip install -qqq -U flash-attn --no-build-isolation pip install flash-attn --progress-bar off"
   ]
  },
  {
   "cell_type": "code",
   "execution_count": 2,
   "id": "00d8cbae-9484-4013-9cdd-4057653463f0",
   "metadata": {},
   "outputs": [
    {
     "data": {
      "application/vnd.jupyter.widget-view+json": {
       "model_id": "4aab8cd76ecc466a9a8b0edf15ed3911",
       "version_major": 2,
       "version_minor": 0
      },
      "text/plain": [
       "VBox(children=(HTML(value='<center> <img\\nsrc=https://huggingface.co/front/assets/huggingface_logo-noborder.sv…"
      ]
     },
     "metadata": {},
     "output_type": "display_data"
    }
   ],
   "source": [
    "from huggingface_hub import login\n",
    "login()"
   ]
  },
  {
   "cell_type": "code",
   "execution_count": 3,
   "id": "d821f3dc-9b0c-46ef-b916-273c13c36bc2",
   "metadata": {},
   "outputs": [
    {
     "name": "stderr",
     "output_type": "stream",
     "text": [
      "Special tokens have been added in the vocabulary, make sure the associated word embeddings are fine-tuned or trained.\n"
     ]
    },
    {
     "data": {
      "application/vnd.jupyter.widget-view+json": {
       "model_id": "a33af4375a9c4204a62ae4916eff8108",
       "version_major": 2,
       "version_minor": 0
      },
      "text/plain": [
       "Loading checkpoint shards:   0%|          | 0/4 [00:00<?, ?it/s]"
      ]
     },
     "metadata": {},
     "output_type": "display_data"
    },
    {
     "name": "stderr",
     "output_type": "stream",
     "text": [
      "/opt/conda/lib/python3.10/site-packages/peft/tuners/lora/bnb.py:325: UserWarning: Merge lora module to 4-bit linear may get different generations due to rounding errors.\n",
      "  warnings.warn(\n"
     ]
    }
   ],
   "source": [
    "import transformers\n",
    "import torch\n",
    "from peft import PeftModel\n",
    "\n",
    "# Set torch dtype and attention implementation\n",
    "if torch.cuda.get_device_capability()[0] >= 8:\n",
    "    !pip install -qqq flash-attn\n",
    "    torch_dtype = torch.bfloat16\n",
    "    attn_implementation = \"flash_attention_2\"\n",
    "else:\n",
    "    torch_dtype = torch.float16\n",
    "    attn_implementation = \"eager\"\n",
    "\n",
    "base_model = \"meta-llama/Meta-Llama-3-8B\"\n",
    "base2_model = \"AlienKevin/Meta-Llama-3-8B-tagllm-lang-1-fixed-embed\"\n",
    "new_model = \"AlienKevin/Meta-Llama-3-8B-tagllm-pos-1-fixed-embed\"\n",
    "\n",
    "bnb_config = transformers.BitsAndBytesConfig(\n",
    "    load_in_4bit=True,\n",
    "    bnb_4bit_quant_type=\"nf4\",\n",
    "    bnb_4bit_compute_dtype=torch_dtype,\n",
    "    bnb_4bit_use_double_quant=True,\n",
    ")\n",
    "\n",
    "num_token_per_tag = 1\n",
    "lang_tokens = ['<|TOK0|>', '<|TOK1|>', '<|TOK2|>']\n",
    "pos_tokens = ['<|TOK200|>']\n",
    "\n",
    "tokenizer = transformers.AutoTokenizer.from_pretrained(base_model, additional_special_tokens=lang_tokens + pos_tokens)\n",
    "\n",
    "model = transformers.AutoModelForCausalLM.from_pretrained(\n",
    "    base_model,\n",
    "    quantization_config=bnb_config,\n",
    "    device_map=\"auto\",\n",
    "    attn_implementation=attn_implementation,\n",
    ")\n",
    "model.resize_token_embeddings(len(tokenizer) - 1)\n",
    "model = PeftModel.from_pretrained(model, base2_model)\n",
    "model = model.merge_and_unload()\n",
    "\n",
    "model.resize_token_embeddings(len(tokenizer))\n",
    "model = PeftModel.from_pretrained(model, new_model)\n",
    "model = model.merge_and_unload()\n",
    "\n",
    "pipeline = transformers.pipeline(\n",
    "    \"text-generation\",\n",
    "    model=model,\n",
    "    tokenizer=tokenizer,\n",
    ")"
   ]
  },
  {
   "cell_type": "code",
   "execution_count": 4,
   "id": "14563d80-8385-4d03-bc02-5a1d3bc4755a",
   "metadata": {},
   "outputs": [],
   "source": [
    "from datasets import load_dataset, features\n",
    "\n",
    "def patch_v(tag):\n",
    "    if tag == 'V':\n",
    "        return 'VERB'\n",
    "    else:\n",
    "        return tag\n",
    "\n",
    "def get_dataset(num_existing_tokens=0, num_token_per_tag=1):\n",
    "    dataset = load_dataset(\"hkcancor\", \"default\")\n",
    "\n",
    "    single_lang = [\"eng\", \"yue\", \"cmn\"]\n",
    "\n",
    "    tag_name_dict = {}\n",
    "    for lang in single_lang:\n",
    "        tag_name_dict[lang] = \"\".join([f'<|TOK{i}|>' for i in range(num_existing_tokens, num_existing_tokens + num_token_per_tag)])\n",
    "        num_existing_tokens += num_token_per_tag\n",
    "\n",
    "    source_upos = dataset['train'].features[\"pos_tags_ud\"].feature\n",
    "    print(\"Source upos:\", source_upos)\n",
    "\n",
    "    def preprocess_function(example):\n",
    "        example[\"input\"] = tag_name_dict[\"yue\"] + ' '.join(example[\"tokens\"]) + \"\\n\" + \\\n",
    "            ''.join(pos_tokens) + ' '.join(patch_v(source_upos.int2str(tag)).lower()\n",
    "            for tag in example[\"pos_tags_ud\"])\n",
    "        return example\n",
    "    \n",
    "    dataset['train'] = dataset['train'].map(preprocess_function, remove_columns=\n",
    "        ['tokens', 'conversation_id', 'pos_tags_prf', 'pos_tags_ud', 'speaker', 'transcriptions', 'turn_number', 'tokens'])\n",
    "\n",
    "    num_examples = 10\n",
    "    \n",
    "    dataset['train'] = dataset['train'].shuffle(42)\n",
    "    dataset['train'] = dataset['train'].select(range(num_examples))\n",
    "    prompt = '\\n'.join(example['input'] for example in dataset['train'].take(num_examples)) + '\\n'\n",
    "    print(prompt)\n",
    "    \n",
    "    dataset = load_dataset(\"universal_dependencies\", \"yue_hk\")\n",
    "    test_dataset = dataset[\"test\"]\n",
    "\n",
    "    def preprocess_function(examples):\n",
    "        examples[\"inputs\"] = [prompt + tag_name_dict[\"yue\"] + ' '.join(examples[\"tokens\"][i]) + \"\\n\" + ''.join(pos_tokens) for i in range(len(examples[\"tokens\"]))]\n",
    "        return examples\n",
    "    \n",
    "    test_dataset = test_dataset.map(preprocess_function, remove_columns=\n",
    "        ['idx', 'text', 'tokens', 'lemmas', 'upos', 'xpos', 'feats', 'head', 'deprel', 'deps', 'misc'], batched=True)\n",
    "\n",
    "    return prompt, test_dataset, tag_name_dict"
   ]
  },
  {
   "cell_type": "code",
   "execution_count": 5,
   "id": "639b897d",
   "metadata": {},
   "outputs": [
    {
     "name": "stdout",
     "output_type": "stream",
     "text": [
      "Source upos: ClassLabel(names=['NUM', 'ADP', 'INTJ', 'PROPN', 'ADJ', 'V', 'DET', 'ADV', 'CCONJ', 'PRON', 'X', 'PART', 'AUX', 'VERB', 'NOUN', 'PUNCT'], id=None)\n",
      "<|TOK1|>啲 - 啲 sales 嘅 質素 下降 ， 會 唔 會 好似 同 醫管局 嗰啲 …\n",
      "<|TOK200|>noun punct noun noun part noun verb punct aux adv aux verb adp propn pron punct\n",
      "<|TOK1|>唉 ， 有 乜嘢 辦法 啊 ， 興 吖 嗎 ， 咁 興 啊 。\n",
      "<|TOK200|>intj punct verb pron noun part punct verb part part punct adv verb part punct\n",
      "<|TOK1|>夠 嚹 。\n",
      "<|TOK200|>verb part punct\n",
      "<|TOK1|>噉 另外 就 同 佢 太太 之間 呢 亦都 有 個 中年 婚姻 危機 𡃉 。 即係 覺得 太太 ， 冇 理由 我 太太 會 重 - 重 愛 我 吖 。 即係 我 事業 又 唔 得 ， 要 樣 冇 樣 ， 要 錢 冇 錢 噉樣 。 噉 另外 有 個 黑人 嘅 。 就 係 鬍鬚 阿伯 ， 就 成 五十 歲 嘅 。 點解 會 揾 到 佢 ？ 因為 佢 要 揾 個 人 教 跳舞 吖 嗎 。 而 哩個 阿伯 係 識 跳 所有 爵士舞 ， 只不過 係 因為 骨頭 硬 。 即係 跳 起 身 ， 跌落 地下 之後 就 起 唔 到 身 𡃉 嘞 。 但係 之前 嗰 段 係 得 嘅 。\n",
      "<|TOK200|>cconj cconj adv adp pron noun adv part adv verb noun noun noun noun part punct cconj verb noun punct verb noun pron noun aux adv punct adv verb pron part punct cconj pron noun adv adv verb punct aux noun verb noun punct aux noun verb noun cconj punct cconj cconj verb noun noun part punct adv verb noun noun punct adv num num noun part punct pron aux verb part pron punct cconj pron aux verb noun noun verb verb part part punct cconj pron noun verb verb verb adj noun punct adv verb cconj noun adj punct cconj verb verb noun punct verb noun adv adv verb adv part noun part part punct cconj adv pron noun verb aux part punct\n",
      "<|TOK1|>噉 𠻺 係 。 自己 儲 郵票 嘅 ， 就 唔 會 噉 𡃉 喇 。\n",
      "<|TOK200|>pron adv verb punct pron verb noun part punct adv adv aux pron part part punct\n",
      "<|TOK1|>跟住 然之後 佢 話 ， Holly 呢 ， 另外 嗰個 friend 呢 去 咗 哈爾濱 旅行 啊 。\n",
      "<|TOK200|>cconj cconj pron verb punct propn part punct cconj pron noun part verb part propn verb part punct\n",
      "<|TOK1|>嗯 ， 我 都 估 到 佢 - 其實 我 都 估 到 佢 冇 去 考 𡃉 嚹 。\n",
      "<|TOK200|>intj punct pron adv verb part pron punct adv pron adv verb part pron verb adp verb part part punct\n",
      "<|TOK1|>喂 ， 但係 點解 你 要 特登 提 出來 ， 因為 我哋 唔係 教徒 哩樣 嘢 呢 ？ 所以 先至 相信 。\n",
      "<|TOK200|>intj punct cconj pron pron aux adv verb verb punct cconj pron verb noun pron noun part punct cconj adv verb punct\n",
      "<|TOK1|>真係 。\n",
      "<|TOK200|>adv punct\n",
      "<|TOK1|>噉 你 就 ， 誒 ， 點樣 - 即係 你 影印 咗 一萬 個 - 唔係 ， 一千 個 copy 啊 。\n",
      "<|TOK200|>cconj pron adv punct intj punct pron punct cconj pron verb part num noun punct verb punct num noun noun part punct\n",
      "\n"
     ]
    }
   ],
   "source": [
    "prompt, eval_dataset, tag_name_dict = get_dataset(num_token_per_tag=num_token_per_tag)"
   ]
  },
  {
   "cell_type": "code",
   "execution_count": 6,
   "id": "eecc95da-b9bd-40dc-acab-3aed3186b9ba",
   "metadata": {},
   "outputs": [
    {
     "data": {
      "text/plain": [
       "Dataset({\n",
       "    features: ['inputs'],\n",
       "    num_rows: 1004\n",
       "})"
      ]
     },
     "execution_count": 6,
     "metadata": {},
     "output_type": "execute_result"
    }
   ],
   "source": [
    "eval_dataset"
   ]
  },
  {
   "cell_type": "code",
   "execution_count": 7,
   "id": "7dd1a9f7-8d17-4023-984c-0ce1a4bb0dde",
   "metadata": {},
   "outputs": [
    {
     "data": {
      "text/plain": [
       "{'inputs': ['<|TOK1|>啲 - 啲 sales 嘅 質素 下降 ， 會 唔 會 好似 同 醫管局 嗰啲 …\\n<|TOK200|>noun punct noun noun part noun verb punct aux adv aux verb adp propn pron punct\\n<|TOK1|>唉 ， 有 乜嘢 辦法 啊 ， 興 吖 嗎 ， 咁 興 啊 。\\n<|TOK200|>intj punct verb pron noun part punct verb part part punct adv verb part punct\\n<|TOK1|>夠 嚹 。\\n<|TOK200|>verb part punct\\n<|TOK1|>噉 另外 就 同 佢 太太 之間 呢 亦都 有 個 中年 婚姻 危機 𡃉 。 即係 覺得 太太 ， 冇 理由 我 太太 會 重 - 重 愛 我 吖 。 即係 我 事業 又 唔 得 ， 要 樣 冇 樣 ， 要 錢 冇 錢 噉樣 。 噉 另外 有 個 黑人 嘅 。 就 係 鬍鬚 阿伯 ， 就 成 五十 歲 嘅 。 點解 會 揾 到 佢 ？ 因為 佢 要 揾 個 人 教 跳舞 吖 嗎 。 而 哩個 阿伯 係 識 跳 所有 爵士舞 ， 只不過 係 因為 骨頭 硬 。 即係 跳 起 身 ， 跌落 地下 之後 就 起 唔 到 身 𡃉 嘞 。 但係 之前 嗰 段 係 得 嘅 。\\n<|TOK200|>cconj cconj adv adp pron noun adv part adv verb noun noun noun noun part punct cconj verb noun punct verb noun pron noun aux adv punct adv verb pron part punct cconj pron noun adv adv verb punct aux noun verb noun punct aux noun verb noun cconj punct cconj cconj verb noun noun part punct adv verb noun noun punct adv num num noun part punct pron aux verb part pron punct cconj pron aux verb noun noun verb verb part part punct cconj pron noun verb verb verb adj noun punct adv verb cconj noun adj punct cconj verb verb noun punct verb noun adv adv verb adv part noun part part punct cconj adv pron noun verb aux part punct\\n<|TOK1|>噉 𠻺 係 。 自己 儲 郵票 嘅 ， 就 唔 會 噉 𡃉 喇 。\\n<|TOK200|>pron adv verb punct pron verb noun part punct adv adv aux pron part part punct\\n<|TOK1|>跟住 然之後 佢 話 ， Holly 呢 ， 另外 嗰個 friend 呢 去 咗 哈爾濱 旅行 啊 。\\n<|TOK200|>cconj cconj pron verb punct propn part punct cconj pron noun part verb part propn verb part punct\\n<|TOK1|>嗯 ， 我 都 估 到 佢 - 其實 我 都 估 到 佢 冇 去 考 𡃉 嚹 。\\n<|TOK200|>intj punct pron adv verb part pron punct adv pron adv verb part pron verb adp verb part part punct\\n<|TOK1|>喂 ， 但係 點解 你 要 特登 提 出來 ， 因為 我哋 唔係 教徒 哩樣 嘢 呢 ？ 所以 先至 相信 。\\n<|TOK200|>intj punct cconj pron pron aux adv verb verb punct cconj pron verb noun pron noun part punct cconj adv verb punct\\n<|TOK1|>真係 。\\n<|TOK200|>adv punct\\n<|TOK1|>噉 你 就 ， 誒 ， 點樣 - 即係 你 影印 咗 一萬 個 - 唔係 ， 一千 個 copy 啊 。\\n<|TOK200|>cconj pron adv punct intj punct pron punct cconj pron verb part num noun punct verb punct num noun noun part punct\\n<|TOK1|>你 喺度 搵 乜嘢 呀 ？\\n<|TOK200|>',\n",
       "  '<|TOK1|>啲 - 啲 sales 嘅 質素 下降 ， 會 唔 會 好似 同 醫管局 嗰啲 …\\n<|TOK200|>noun punct noun noun part noun verb punct aux adv aux verb adp propn pron punct\\n<|TOK1|>唉 ， 有 乜嘢 辦法 啊 ， 興 吖 嗎 ， 咁 興 啊 。\\n<|TOK200|>intj punct verb pron noun part punct verb part part punct adv verb part punct\\n<|TOK1|>夠 嚹 。\\n<|TOK200|>verb part punct\\n<|TOK1|>噉 另外 就 同 佢 太太 之間 呢 亦都 有 個 中年 婚姻 危機 𡃉 。 即係 覺得 太太 ， 冇 理由 我 太太 會 重 - 重 愛 我 吖 。 即係 我 事業 又 唔 得 ， 要 樣 冇 樣 ， 要 錢 冇 錢 噉樣 。 噉 另外 有 個 黑人 嘅 。 就 係 鬍鬚 阿伯 ， 就 成 五十 歲 嘅 。 點解 會 揾 到 佢 ？ 因為 佢 要 揾 個 人 教 跳舞 吖 嗎 。 而 哩個 阿伯 係 識 跳 所有 爵士舞 ， 只不過 係 因為 骨頭 硬 。 即係 跳 起 身 ， 跌落 地下 之後 就 起 唔 到 身 𡃉 嘞 。 但係 之前 嗰 段 係 得 嘅 。\\n<|TOK200|>cconj cconj adv adp pron noun adv part adv verb noun noun noun noun part punct cconj verb noun punct verb noun pron noun aux adv punct adv verb pron part punct cconj pron noun adv adv verb punct aux noun verb noun punct aux noun verb noun cconj punct cconj cconj verb noun noun part punct adv verb noun noun punct adv num num noun part punct pron aux verb part pron punct cconj pron aux verb noun noun verb verb part part punct cconj pron noun verb verb verb adj noun punct adv verb cconj noun adj punct cconj verb verb noun punct verb noun adv adv verb adv part noun part part punct cconj adv pron noun verb aux part punct\\n<|TOK1|>噉 𠻺 係 。 自己 儲 郵票 嘅 ， 就 唔 會 噉 𡃉 喇 。\\n<|TOK200|>pron adv verb punct pron verb noun part punct adv adv aux pron part part punct\\n<|TOK1|>跟住 然之後 佢 話 ， Holly 呢 ， 另外 嗰個 friend 呢 去 咗 哈爾濱 旅行 啊 。\\n<|TOK200|>cconj cconj pron verb punct propn part punct cconj pron noun part verb part propn verb part punct\\n<|TOK1|>嗯 ， 我 都 估 到 佢 - 其實 我 都 估 到 佢 冇 去 考 𡃉 嚹 。\\n<|TOK200|>intj punct pron adv verb part pron punct adv pron adv verb part pron verb adp verb part part punct\\n<|TOK1|>喂 ， 但係 點解 你 要 特登 提 出來 ， 因為 我哋 唔係 教徒 哩樣 嘢 呢 ？ 所以 先至 相信 。\\n<|TOK200|>intj punct cconj pron pron aux adv verb verb punct cconj pron verb noun pron noun part punct cconj adv verb punct\\n<|TOK1|>真係 。\\n<|TOK200|>adv punct\\n<|TOK1|>噉 你 就 ， 誒 ， 點樣 - 即係 你 影印 咗 一萬 個 - 唔係 ， 一千 個 copy 啊 。\\n<|TOK200|>cconj pron adv punct intj punct pron punct cconj pron verb part num noun punct verb punct num noun noun part punct\\n<|TOK1|>咪 執 返 啲 嘢 去 阿哥 個 新 屋 度 囖 。\\n<|TOK200|>']}"
      ]
     },
     "execution_count": 7,
     "metadata": {},
     "output_type": "execute_result"
    }
   ],
   "source": [
    "eval_dataset[:2]"
   ]
  },
  {
   "cell_type": "code",
   "execution_count": 8,
   "id": "f6cccb0a-ee04-4667-858a-cf77bafd2054",
   "metadata": {},
   "outputs": [],
   "source": [
    "# https://huggingface.co/PygmalionAI/pygmalion-6b/discussions/25#64387bf26c8841ba74e7d9c0\n",
    "from transformers import StoppingCriteria\n",
    "\n",
    "class TranslationStoppingCriteria(StoppingCriteria):\n",
    "    def __init__(self, prompt):\n",
    "        self.prompt = prompt\n",
    "        \n",
    "    def __call__(self, input_ids, scores, **kwargs):\n",
    "        # Get the generated text as a string\n",
    "        generated_text = tokenizer.decode(input_ids[0])\n",
    "        generated_text = generated_text.removeprefix(prompt)\n",
    "        if generated_text.endswith('\\n'):\n",
    "            return True  # Stop generation\n",
    "        return False  # Continue generation\n",
    "    \n",
    "    def __len__(self):\n",
    "        return 1\n",
    "    \n",
    "    def __iter__(self):\n",
    "        yield self"
   ]
  },
  {
   "cell_type": "code",
   "execution_count": null,
   "id": "1e7ddec9-4a6e-484a-af2d-05b51b068553",
   "metadata": {},
   "outputs": [
    {
     "name": "stderr",
     "output_type": "stream",
     "text": [
      "  0%|          | 1/1004 [00:07<2:03:03,  7.36s/it]"
     ]
    },
    {
     "name": "stdout",
     "output_type": "stream",
     "text": [
      "<|TOK1|>你 喺度 搵 乜嘢 呀 ？\n",
      "<|TOK200|>cconj pron adv noun part punct cconj pron noun part num noun part punct coun noun part cconj pron noun part coun noun part coun noun part coun noun part coun noun part coun noun part coun noun part coun noun part coun noun part coun noun part coun noun part coun noun part coun noun part coun noun part coun noun part coun noun part coun noun part coun noun part coun noun part coun noun part coun noun part coun noun part coun noun part coun noun part coun noun part coun noun part coun noun\n"
     ]
    },
    {
     "name": "stderr",
     "output_type": "stream",
     "text": [
      "  0%|          | 2/1004 [00:14<1:59:37,  7.16s/it]"
     ]
    },
    {
     "name": "stdout",
     "output_type": "stream",
     "text": [
      "<|TOK1|>咪 執 返 啲 嘢 去 阿哥 個 新 屋 度 囖 。\n",
      "<|TOK200|>cconj pron verb part num noun part punct cconj pron verb part num noun verb part num noun part punct counj part verb num noun part punct counj part verb part num noun part num noun part punct counj part num noun part num noun part punct counj part num noun part num noun part num noun part num noun part num noun part num noun part num noun part num noun part num num noun part num noun part num noun part num num noun part num noun part num num noun part num num noun part num num noun part num num noun part num num noun part num noun part num num noun part num\n"
     ]
    },
    {
     "name": "stderr",
     "output_type": "stream",
     "text": [
      "  0%|          | 3/1004 [00:21<1:58:34,  7.11s/it]"
     ]
    },
    {
     "name": "stdout",
     "output_type": "stream",
     "text": [
      "<|TOK1|>該 拎 嗰啲 都 拎 走 咗 啦 ！\n",
      "<|TOK200|>counj punct cconj pron noun part punct councer noun part num noun part punct councer noun part noun punct councer noun part noun part councer noun part noun part councer noun part councer noun part councer noun part councer noun part councer noun part councer noun part councer noun part councer noun part councer noun part councer noun part councer noun part councer noun part councer noun part councer noun part councer noun part councer noun part councer noun part councer noun part councer noun part councer noun part councer noun part councer noun part councer noun part\n"
     ]
    },
    {
     "name": "stderr",
     "output_type": "stream",
     "text": [
      "  0%|          | 4/1004 [00:28<1:57:51,  7.07s/it]"
     ]
    },
    {
     "name": "stdout",
     "output_type": "stream",
     "text": [
      "<|TOK1|>剩 落 呢啲 都 係 冇用 㗎 喇 ！\n",
      "<|TOK200|>cconj pron verb part punct cconj pron verb part num noun part verb punct cconj pron verb part num noun part punct cconj pron verb part num noun part punctuation counj part num noun part verb part num noun part num verb part num noun part verb part num noun part num verb part num noun part num noun part num noun part num noun part num verb part num noun part num noun part num noun part num num noun part num noun part num noun part num noun part num noun part num num noun part num noun part num num noun part num num noun part num noun part num num noun part num num noun part num noun\n"
     ]
    },
    {
     "name": "stderr",
     "output_type": "stream",
     "text": [
      "  0%|          | 5/1004 [00:35<1:57:23,  7.05s/it]"
     ]
    },
    {
     "name": "stdout",
     "output_type": "stream",
     "text": [
      "<|TOK1|>噉 都 要 執  ！\n",
      "<|TOK200|>icounj punct cconj pron verb part num noun part punct cjon pro verb part num noun part num noun verb part num noun part num noun part num noun part num noun part num noun part num noun part num noun part num noun part num noun part num noun part num noun part num noun part num noun part num noun part num num noun part num num noun part num noun part num noun part num noun part num num noun part num num noun part num num num num noun part num num noun part num num num num num noun part num num num noun part num num noun part num num num num num num num noun part num\n"
     ]
    },
    {
     "name": "stderr",
     "output_type": "stream",
     "text": [
      "  1%|          | 6/1004 [00:42<1:57:06,  7.04s/it]"
     ]
    },
    {
     "name": "stdout",
     "output_type": "stream",
     "text": [
      "<|TOK1|>係 喇 ， 豪仔 今晚 返 唔 返嚟 食飯 呀 ？\n",
      "<|TOK200|>cconj pron verb part num noun verb part punct cconj pron verb part num noun verb part punct cjon ver noun part num noun verb part num noun part punct cjon ver noun part num noun part cjon ver noun part num noun part num noun part num noun part cjon ver noun part num noun part num noun part num noun part num noun part num noun part num noun part num noun part num noun part num noun part num noun part num noun part num noun part num noun part num noun part num noun part num noun part num noun part num noun part num noun part num num noun part num num noun part num noun part\n"
     ]
    },
    {
     "name": "stderr",
     "output_type": "stream",
     "text": [
      "  1%|          | 7/1004 [00:49<1:57:02,  7.04s/it]"
     ]
    },
    {
     "name": "stdout",
     "output_type": "stream",
     "text": [
      "<|TOK1|>佢 日日 都 同 女朋友 去 玩 煮飯仔 ， 鬼 得閒 理 我哋 咩 ？\n",
      "<|TOK200|>cconj pron verb part num noun part punct cconj pron verb part num noun part punct cconj pron verb part num noun part punct cconj pron verb part num noun part punct cunjoun part num noun part num noun part cunjoun counc pron verb part num noun part num noun part num noun part cunjoun counc pron verb part num noun part num noun part num noun part num noun part cunjoun counc pron verb part num noun part num noun part cunjoun cence pron verb part num noun part num noun part num noun part num noun part num noun part num noun part num noun part\n"
     ]
    },
    {
     "name": "stderr",
     "output_type": "stream",
     "text": [
      "  1%|          | 8/1004 [00:56<1:56:44,  7.03s/it]"
     ]
    },
    {
     "name": "stdout",
     "output_type": "stream",
     "text": [
      "<|TOK1|>呢啲 都 唔 要 㗎 啦 ， 可 ？\n",
      "<|TOK200|>cconj pron verb part num noun punct cjon pron verb part num noun punct conjon verb part num noun part num noun part conjon verb part num noun part conjon verb part num noun part conjon verb part conjon verb part num noun part conjon verb part num noun part conjon verb part conjon verb part num noun part conjon verb part num noun part conjon verb part num noun part conjon verb part num noun part conjon verb part num noun part conjon verb part num noun part conjon verb part num noun part conjon\n"
     ]
    },
    {
     "name": "stderr",
     "output_type": "stream",
     "text": [
      "  1%|          | 9/1004 [01:03<1:56:30,  7.03s/it]"
     ]
    },
    {
     "name": "stdout",
     "output_type": "stream",
     "text": [
      "<|TOK1|>部 機 都 冇 咗 嘞 。\n",
      "<|TOK200|>intj punct cconj pron verb part num noun punct cconj pron verb part num noun part cconj pron verb part num noun part cconj pron verb part num noun part cconj pron verb part num noun part cun cjon noun part cun cjon noun part cun cjon noun part cun cjon noun part cun cjon noun part cun cjon noun part cun cjon noun part cun cjon noun part cun cjon noun part cun cjon noun part cun cjon noun part cun cjon noun part cun cjon noun part cun cjon noun part c\n"
     ]
    },
    {
     "name": "stderr",
     "output_type": "stream",
     "text": [
      "  1%|          | 10/1004 [01:04<1:25:54,  5.19s/it]"
     ]
    },
    {
     "name": "stdout",
     "output_type": "stream",
     "text": [
      "<|TOK1|>爺爺 ， 我 可 唔 可以 睇 新 一 集 嘅 龍珠 呀 ？\n",
      "<|TOK200|>counjunct cconj pron verb part num noun part punct cunjoun\n",
      "\n"
     ]
    },
    {
     "name": "stderr",
     "output_type": "stream",
     "text": [
      "  1%|          | 11/1004 [01:11<1:35:02,  5.74s/it]"
     ]
    },
    {
     "name": "stdout",
     "output_type": "stream",
     "text": [
      "<|TOK1|>等 你 媽咪 收工 返嚟 ， 同 你 對 晒 啲 功課 先 睇 啦 ！\n",
      "<|TOK200|>counj punct cconj pron noun part punct cfnosf partn verb noun part punct cfnosf partn verb noun partnum noun part punct cfnosf partn verb noun partnum noun partnum verb noun partnum n verb partnum n verb partnum n verb partnum n verb partnum n verb partnum n verb partnum n verb partnum n verb partnum n verb partnum n verb partnum n verb partnum n verb partnum n verb partnum n verb partnum n verb partum n verb n partum n verb partum n verb n partum n verb n part\n"
     ]
    },
    {
     "name": "stderr",
     "output_type": "stream",
     "text": [
      "  1%|          | 12/1004 [01:18<1:41:30,  6.14s/it]"
     ]
    },
    {
     "name": "stdout",
     "output_type": "stream",
     "text": [
      "<|TOK1|>爺爺 ， 我 做 晒 功課 喇 ！\n",
      "<|TOK200|>counj punct cconj pron verb part num noun noun part punct cconj pron noun part num noun part punct cconj pron noun part num noun part punct councj pron noun part num noun part punct councj pron noun part num noun part punct councj pron noun part num noun part punct councj pron noun part num noun part num noun part num noun part num noun part num noun part num noun part num noun part num noun part num noun part num num noun part num noun part num noun part num noun part num noun part num num noun part num noun part num noun part num noun part num num noun part\n"
     ]
    },
    {
     "name": "stderr",
     "output_type": "stream",
     "text": [
      "  1%|▏         | 13/1004 [01:25<1:45:43,  6.40s/it]"
     ]
    },
    {
     "name": "stdout",
     "output_type": "stream",
     "text": [
      "<|TOK1|>默書 呢 ？\n",
      "<|TOK200|> cunj punct cjjunct cunj cjjunct cjjunct cunj cjjunct cjjunct cunj cjjunct cunj cjjunct cunj cjjunct cunj cunj cjjunct cunj cjjunct cunj cjjunct cunj cjjunct cunj cjjunct cunj cjjunct cunj cjjunct cunj cjjunct cunj cjjunct cunj cjjunct cunj cjjunct cunj cjjunct cunj cjjunct cunj c\n"
     ]
    },
    {
     "name": "stderr",
     "output_type": "stream",
     "text": [
      "  1%|▏         | 14/1004 [01:32<1:48:47,  6.59s/it]"
     ]
    },
    {
     "name": "stdout",
     "output_type": "stream",
     "text": [
      "<|TOK1|>冇 呀 ， 爺爺 。\n",
      "<|TOK200|>intj punct cjonous cajounous cajounous cajounous cajounous cajounous cajounous cajounous cajounous cajounous cajounous cajounous cajounous cajounous cajounous cajounous cajounous cajounous cajounous cajounous cajounous cajounous cajounous cajounous cajounous cajounous cajounous cajounous cajounous cajounous cajounous caj\n"
     ]
    },
    {
     "name": "stderr",
     "output_type": "stream",
     "text": [
      "  1%|▏         | 15/1004 [01:39<1:50:49,  6.72s/it]"
     ]
    },
    {
     "name": "stdout",
     "output_type": "stream",
     "text": [
      "<|TOK1|>冇 ？\n",
      "<|TOK200|>conj pron adv punct counc pron verb part num noun noun part punct counc pro noun verb part num noun part punct counc pro noun verb part num noun noun part punct counc pro noun verb part num noun verb part num noun verb part num noun noun part num noun verb part num noun verb part num noun noun part num noun part num noun part num noun verb part num noun part num noun verb part num num noun noun part num num noun part num noun verb part num noun part num num noun verb part num noun part num num noun verb part num num noun part num noun num part num num num num noun part num noun part\n"
     ]
    },
    {
     "name": "stderr",
     "output_type": "stream",
     "text": [
      "  2%|▏         | 16/1004 [01:46<1:52:06,  6.81s/it]"
     ]
    },
    {
     "name": "stdout",
     "output_type": "stream",
     "text": [
      "<|TOK1|>爺爺 ， 好 好睇 㗎 ！\n",
      "<|TOK200|>cconj pron noun part punct cconj pron verb part num noun noun part punct councjon part noun noun part verb punct counjon part num noun part noun part num noun part punct councjon part num noun part num noun part num noun part num noun part councjon part num noun part num noun part num noun part num noun part num noun part num noun part num num noun part num noun part num noun part num num noun part num num noun part num num noun part num noun part num num noun part num num noun part num num num num noun part num num noun part num num num noun part num num noun part\n"
     ]
    },
    {
     "name": "stderr",
     "output_type": "stream",
     "text": [
      "  2%|▏         | 17/1004 [01:53<1:53:01,  6.87s/it]"
     ]
    },
    {
     "name": "stdout",
     "output_type": "stream",
     "text": [
      "<|TOK1|>你 ⋯⋯ 同 我 睇 啦 ！\n",
      "<|TOK200|>coun punct cconj pron verb part num noun punct counc pro verb part num noun noun part punct cconj pro verb part num noun pro verb part num noun verb part num noun pro verb part num noun part counc pro verb part num noun part num noun pro verb part num noun pro verb part num noun pro verb part num pro verb part num noun pro verb part num noun pro verb part num noun pro verb part num noun pro verb part num noun pro verb part num noun pro verb part num noun pro verb part num noun pro verb part num pro verb num noun pro verb part num noun pro verb part num noun pro verb part\n"
     ]
    },
    {
     "name": "stderr",
     "output_type": "stream",
     "text": [
      "  2%|▏         | 18/1004 [02:00<1:53:34,  6.91s/it]"
     ]
    },
    {
     "name": "stdout",
     "output_type": "stream",
     "text": [
      "<|TOK1|>唔 睇 。\n",
      "<|TOK200|>coun noun part punct conj punct cconj pron noun part punct conj punct conj pr noun part conj pr noun part conj pr noun part conj pr noun part conj pr noun part conj pr noun part conj pr noun part conj pr noun part conj pr noun part conj pr noun part conj pr noun part conj pr noun part conj pr noun part conj pr noun part conj pr noun part conj pr noun part conj pr noun part conj pr noun part c\n"
     ]
    },
    {
     "name": "stderr",
     "output_type": "stream",
     "text": [
      "  2%|▏         | 19/1004 [02:07<1:53:54,  6.94s/it]"
     ]
    },
    {
     "name": "stdout",
     "output_type": "stream",
     "text": [
      "<|TOK1|>我 都 唔 睇 呢啲 公仔 嘅 。\n",
      "<|TOK200|>cconj pron dver verb part num noun verb part num noun part punct cconj pron verb part num noun part punct cconj pron verb part num noun part verb punct conjoun part num noun part num noun part verb part num noun part num noun part num noun part num noun part num noun part num noun part num noun part num noun part num noun part num noun part num noun part num noun part num num noun part num num noun part num noun part num noun part num num noun part num noun part num num num noun part num num noun part num num noun part num num noun part num num num num noun part num\n"
     ]
    },
    {
     "name": "stderr",
     "output_type": "stream",
     "text": [
      "  2%|▏         | 20/1004 [02:14<1:54:04,  6.96s/it]"
     ]
    },
    {
     "name": "stdout",
     "output_type": "stream",
     "text": [
      "<|TOK1|>爺爺 ， 你 冇 tei1si2 嘅 ！\n",
      "<|TOK200|>cunj punct cconj pron noun part num noun punct cconj pron verb noun part num noun part punct cconj pron verb noun part num noun punct cconj pron noun part num noun part num noun part num noun part cunj punct councer noun part num noun part counjunct councer noun part num noun part num noun part num noun part num noun part num noun part num noun part num noun part num noun part num noun part num noun part num noun part num noun part num noun part num noun part num noun part num noun part num noun part num noun part num num noun part num noun part num noun part num\n"
     ]
    },
    {
     "name": "stderr",
     "output_type": "stream",
     "text": [
      "  2%|▏         | 21/1004 [02:22<1:55:50,  7.07s/it]"
     ]
    },
    {
     "name": "stdout",
     "output_type": "stream",
     "text": [
      "<|TOK1|>好 好睇 㗎 ！\n",
      "<|TOK200|>cconj pron adpunc verb part num noun part punct conj punctosimfunkosimfunkosimfunkosimfunkosimfunkosimfunkosimfunkosimfunkosimfunkosimfunkosimfunkosimfunkosimfunkosimfunkosimfunkosimfunkosimfunkosimfunkosimfunkosimfunkosimfunkosimfunkosimfunkosimfunkosimfunkosimfunkosimfunkosimfunk\n"
     ]
    },
    {
     "name": "stderr",
     "output_type": "stream",
     "text": [
      "  2%|▏         | 22/1004 [02:29<1:55:47,  7.07s/it]"
     ]
    },
    {
     "name": "stdout",
     "output_type": "stream",
     "text": [
      "<|TOK1|>舊陣時 呢 ， 龍珠 係 好 興 㗎 。\n",
      "<|TOK200|>intj punct cconj pron noun part num noun punct counj part num noun punct councj part num noun part num noun part punct counj part num noun part num noun part punct counj part num noun part num noun part num noun part num noun part councj part num noun part num noun part num noun part num noun part num noun part councj part num noun part num noun part num noun part councj part num noun part num noun part num noun part num noun part num noun part num noun part num noun part num noun part num noun part num noun part num noun part num noun part\n"
     ]
    },
    {
     "name": "stderr",
     "output_type": "stream",
     "text": [
      "  2%|▏         | 23/1004 [02:36<1:55:38,  7.07s/it]"
     ]
    },
    {
     "name": "stdout",
     "output_type": "stream",
     "text": [
      "<|TOK1|>成日 都 講 埋 啲 咩 龜波氣功 吖 ， 打交 啦 。\n",
      "<|TOK200|>cjonjunct cconj pron verb part num noun part punct cconj pron noun part num noun part num noun part punct conjunct cconj pron noun part num noun part conjunct conjunct conjunct conjunct conjunct conjunct conjunct conjunct conjunct conjunct conjunct conjunct conjunct conjunct conjunct conjunct conjunct conjunct conjunct conjunct conjunct conjunct conj\n"
     ]
    },
    {
     "name": "stderr",
     "output_type": "stream",
     "text": [
      "  2%|▏         | 24/1004 [02:43<1:55:31,  7.07s/it]"
     ]
    },
    {
     "name": "stdout",
     "output_type": "stream",
     "text": [
      "<|TOK1|>三 歲 到 卅 歲 都 沉迷 。\n",
      "<|TOK200|> cconj pron noun part punct cconj pron noun part num noun part punct counj pron noun part num noun part num noun part councj pron noun part num noun part num noun part num noun part councj pron noun part num noun part councj pron noun part num noun part councj pron noun part councj pron noun part councj pron noun part councj pron noun part councj pron noun part councj pron noun part councj pron noun part councj pron noun part councj pron noun part councj pron noun part councj pron noun part counc\n"
     ]
    },
    {
     "name": "stderr",
     "output_type": "stream",
     "text": [
      "  2%|▏         | 25/1004 [02:50<1:55:24,  7.07s/it]"
     ]
    },
    {
     "name": "stdout",
     "output_type": "stream",
     "text": [
      "<|TOK1|>噓 ！ 好 誇張 呀 。\n",
      "<|TOK200|>cconj pron verb partnum noun part punct coun pron verb part num noun part punct coun pron verb part num noun partnum noun part coun pron verb partnum noun part num noun partnum noun partnum noun partnum noun partnum noun partnum noun partnum noun partnum noun partnum noun partnum noun partnum noun partnum noun partnum noun partnum noun partnum noun partnum noun partnum noun partnum noun partnum noun partnum noun partnum noun partnum noun partnum noun partnum noun partnum noun partnum noun partnum noun partnum noun partnum noun partnum partnum noun\n"
     ]
    },
    {
     "name": "stderr",
     "output_type": "stream",
     "text": [
      "  3%|▎         | 26/1004 [02:57<1:55:20,  7.08s/it]"
     ]
    },
    {
     "name": "stdout",
     "output_type": "stream",
     "text": [
      "<|TOK1|>軒軒 ， 走 啦 ！\n",
      "<|TOK200|>intj punct cconj pron verb part num noun part cconj pron verb part num noun part counc pron verb part num noun part counc pron verb part num noun part counc pron verb part num noun part counc pron verb part counc pron verb part num noun part counc pron verb part counc pron verb part num noun part counc pron verb part num noun part counc pron verb part num noun part counc pron verb part counc noun part counc pron verb part num noun part counc noun part counc noun part counc noun part counc noun part counc noun part counc noun part counc\n"
     ]
    },
    {
     "name": "stderr",
     "output_type": "stream",
     "text": [
      "  3%|▎         | 27/1004 [03:04<1:55:10,  7.07s/it]"
     ]
    },
    {
     "name": "stdout",
     "output_type": "stream",
     "text": [
      "<|TOK1|>走 啦 ， 走 啦 ⋯⋯ 走 啦 ， 走 啦 。\n",
      "<|TOK200|>intj punct cconj pron noun part punct cconj pron verb part num noun part punct counc pro noun part num noun part punct counc pro noun part num noun part punct counc pro noun part num noun part counc pro noun part num noun part num noun part num noun part num noun part num noun part num noun part num noun part num noun part num noun part num noun part num noun part num noun part num noun part num noun part num num noun part num noun part num noun part num noun part num noun part num noun part num noun part num num noun part num noun part num noun part num noun part num noun\n"
     ]
    },
    {
     "name": "stderr",
     "output_type": "stream",
     "text": [
      "  3%|▎         | 28/1004 [03:11<1:55:00,  7.07s/it]"
     ]
    },
    {
     "name": "stdout",
     "output_type": "stream",
     "text": [
      "<|TOK1|>吖 ， 掰掰 啦 ， 同 小朋友 掰掰 。\n",
      "<|TOK200|>counjunct cjjunc p verb part punct cjjunc p verb part punct cjjunc p verb part punct cjjunc p verb part punct cjjunc p verb part punct cjjunc p verb part punct cjjunc p verb part punct cjjunc p verb part punct cjjunc p verb part punct cjjunc p verb part punct cjjunc p verb part punct cjjunc p verb part punct cjjunc p verb part punct cjjunc p verb part punct cjjunc p verb part punct cjjunc p verb part punct cjjunc p verb part punct cjjunc p verb\n"
     ]
    },
    {
     "name": "stderr",
     "output_type": "stream",
     "text": [
      "  3%|▎         | 29/1004 [03:18<1:54:52,  7.07s/it]"
     ]
    },
    {
     "name": "stdout",
     "output_type": "stream",
     "text": [
      "<|TOK1|>掰掰 ！\n",
      "<|TOK200|>itj punct cconj pron noun part punct coun noun part punct coun noun part num noun part punct coun noun part noun part counc noun part punct coun noun part counc noun part counc noun part counc noun part counc noun part counc noun part counc noun part counc noun part counc noun part counc noun part counc noun part counc noun part counc noun part counc noun part counc noun part counc noun part counc noun part counc noun part counc noun part counc noun part counc noun part counc noun part counc noun part counc noun\n"
     ]
    },
    {
     "name": "stderr",
     "output_type": "stream",
     "text": [
      "  3%|▎         | 30/1004 [03:25<1:54:41,  7.06s/it]"
     ]
    },
    {
     "name": "stdout",
     "output_type": "stream",
     "text": [
      "<|TOK1|>爺爺 ， 我 行 嘞 ！\n",
      "<|TOK200|>intj punct cconj pron verb part num noun part punct coun noun part num noun part coun noun part coun noun part coun noun part coun noun part coun noun part coun noun part coun noun part coun noun part coun noun part coun noun part coun noun part coun noun part coun noun part coun noun part coun noun part coun noun part coun noun part coun noun part coun noun part coun noun part coun noun part coun noun part coun noun part coun noun part coun noun part coun noun part coun noun part c\n"
     ]
    },
    {
     "name": "stderr",
     "output_type": "stream",
     "text": [
      "  3%|▎         | 31/1004 [03:32<1:54:12,  7.04s/it]"
     ]
    },
    {
     "name": "stdout",
     "output_type": "stream",
     "text": [
      "<|TOK1|>爺爺 呀 ， 快 啲 啦 ！\n",
      "<|TOK200|>counjunct cconj pron verb part num noun noun part punct cconj pron verb part num noun part num noun part punct councjunct cconj pron verb part num noun part num noun part num noun part punct councjunct cconj pron verb part num noun part num noun part num noun part num noun part num noun part num num noun part num noun part num num noun part num noun part num noun part num noun part num num noun part num num noun part num num noun part num num noun part num num noun part num num num noun part num num num num num noun part num num num num num num num\n"
     ]
    },
    {
     "name": "stderr",
     "output_type": "stream",
     "text": [
      "  3%|▎         | 32/1004 [03:39<1:53:54,  7.03s/it]"
     ]
    },
    {
     "name": "stdout",
     "output_type": "stream",
     "text": [
      "<|TOK1|>行 得 未 呀 ？\n",
      "<|TOK200|>icoun noun part punct cjon noun part num noun punct cjon noun part cjon noun part cjon noun part cion noun part cion noun part cion noun part cion noun part cion noun part cion noun part cion noun part cion noun part cion noun part cion noun part cion noun part cion noun part cion noun part cion noun part cion noun part cion noun part cion noun part cion noun part cion noun part cion noun part cion noun part cion noun part cion noun part cion noun part cion noun part cion noun part\n"
     ]
    },
    {
     "name": "stderr",
     "output_type": "stream",
     "text": [
      "  3%|▎         | 33/1004 [03:46<1:53:40,  7.02s/it]"
     ]
    },
    {
     "name": "stdout",
     "output_type": "stream",
     "text": [
      "<|TOK1|>得 㗎 啦 ， 得 㗎 啦 ， 係 ， 呢度 ！ 好 嘞 ！\n",
      "<|TOK200|>cconj pron noun part punct cconj pron noun part num noun part punct councjoun noun part num noun part num noun part num noun part num noun part num noun part num noun part num noun part num noun part num noun part num noun part num noun part num noun part num noun part num noun part num noun part num noun part num noun part num noun part num noun part num noun part num noun part num noun part num noun part num noun part num num noun part num noun part num noun part num num noun part num noun part num noun part num num noun part num num noun part num num noun part num num noun\n"
     ]
    },
    {
     "name": "stderr",
     "output_type": "stream",
     "text": [
      "  3%|▎         | 34/1004 [03:53<1:53:28,  7.02s/it]"
     ]
    },
    {
     "name": "stdout",
     "output_type": "stream",
     "text": [
      "<|TOK1|>ＯＫ ！\n",
      "<|TOK200|>coun punct cconj pron noun part num noun punct cconj pron verb noun part num noun punct councj pron verb noun part num noun punct councj pron verb noun part num noun punct councj pron verb noun part num noun part councj pron verb noun part num noun part councj pron verb noun part num noun part councj pron verb noun part num noun part councj pron verb noun part councj pron verb noun part num noun part num noun part councj pron verb noun part num noun part councj pron noun part num noun part councj pron verb noun part num noun\n"
     ]
    },
    {
     "name": "stderr",
     "output_type": "stream",
     "text": [
      "  3%|▎         | 35/1004 [04:00<1:53:27,  7.03s/it]"
     ]
    },
    {
     "name": "stdout",
     "output_type": "stream",
     "text": [
      "<|TOK1|>得 㗎 喇 ！\n",
      "<|TOK200|>counj punct cconj pron verb part num noun part punct cconj pron noun part punct cunj pron noun part punct cunj pron noun part cunj cunj noun part cunj pron noun part cunj pron noun part cunj pron noun part cunj pron noun part cunj pron noun part cunj pron noun part cunj pron noun part cunj pron noun part cunj pron noun part cunj pron noun part cunj pron noun part cunj pron noun part cunj pron noun part cunj pron noun part cunj pron noun part cunj pron noun part cunj pron noun part cunj pron noun part cunj\n"
     ]
    },
    {
     "name": "stderr",
     "output_type": "stream",
     "text": [
      "  4%|▎         | 36/1004 [04:07<1:53:21,  7.03s/it]"
     ]
    },
    {
     "name": "stdout",
     "output_type": "stream",
     "text": [
      "<|TOK1|>超級 撒亞 人 ！\n",
      "<|TOK200|>cconj pron adpunct cconj pron noun part num noun part punct coun noun part punct cconj pron verb part num noun part punct coun noun part coun noun part punct coun noun part coun noun part coun noun part coun noun part coun noun part coun noun part coun noun part coun noun part coun noun part coun noun part coun noun part coun noun part coun noun part coun noun part coun noun part coun noun part coun noun part coun noun part coun noun part coun noun part coun noun part coun noun part coun\n"
     ]
    },
    {
     "name": "stderr",
     "output_type": "stream",
     "text": [
      "  4%|▎         | 37/1004 [04:14<1:53:09,  7.02s/it]"
     ]
    },
    {
     "name": "stdout",
     "output_type": "stream",
     "text": [
      "<|TOK1|>戰鬥力 超 勁 ！\n",
      "<|TOK200|>icconj pron noun part punctuation cconj pron noun part punct cjon noun part punct cjon noun part num noun part punctuation cjon noun part cjon noun part cjon noun part cjon noun part cjon noun part cjon noun part cjon noun part cjon noun part cjon noun part cjon noun part cjon noun part cjon noun part cjon noun part cjon noun part cjon noun part cjon noun part cjon noun part cjon noun part cjon noun part cjon noun part cjon noun part cjon noun part cjon noun part cjon noun part cjon noun part cjon noun\n"
     ]
    },
    {
     "name": "stderr",
     "output_type": "stream",
     "text": [
      "  4%|▍         | 38/1004 [04:15<1:23:28,  5.19s/it]"
     ]
    },
    {
     "name": "stdout",
     "output_type": "stream",
     "text": [
      "<|TOK1|>爺爺 ， 我 行 得 喇 ！\n",
      "<|TOK200|>counjunct cconj pron verb part num noun puncts\n",
      "\n"
     ]
    },
    {
     "name": "stderr",
     "output_type": "stream",
     "text": [
      "  4%|▍         | 39/1004 [04:22<1:32:05,  5.73s/it]"
     ]
    },
    {
     "name": "stdout",
     "output_type": "stream",
     "text": [
      "<|TOK1|>多多 ！\n",
      "<|TOK200|>coun verb part num noun part punct cconj pron verb part num noun part punctuation coun verb part num noun part punctuation coun verb part num noun part num noun part num noun part num noun part num noun part punctuation coun verb part num noun part num noun part num noun part num num noun part num num noun part num noun part num noun part num num noun part num num noun part num num noun part num noun part num num noun part num num noun part num num noun part num num num noun part num num noun part num num num num num num num num noun part num num num num num num num num num num\n"
     ]
    },
    {
     "name": "stderr",
     "output_type": "stream",
     "text": [
      "  4%|▍         | 40/1004 [04:29<1:38:09,  6.11s/it]"
     ]
    },
    {
     "name": "stdout",
     "output_type": "stream",
     "text": [
      "<|TOK1|>你 成日 就 知道 多多 ！\n",
      "<|TOK200|>intjunc cconjunc conjunc cconjunc conjunc conjunc conjunc conjunc conjunc conjunc conjunc conjunc conjunc conjunc conjunc conjunc conjunc conjunc conjunc conjunc conjunc conjunc conjunc conjunc conjunc conjunc conjunc conjunc conjunc conjunc conjunc conjunc c\n"
     ]
    },
    {
     "name": "stderr",
     "output_type": "stream",
     "text": [
      "  4%|▍         | 41/1004 [04:36<1:42:25,  6.38s/it]"
     ]
    },
    {
     "name": "stdout",
     "output_type": "stream",
     "text": [
      "<|TOK1|>唔好 整 呀 ！\n",
      "<|TOK200|>conjpron adj noun part num noun part cconj pron verb noun part num noun part punct cconj pron verb part num noun part punct coun noun part num noun part counc pron verb part num noun part counc pron verb part num noun part num noun part counc pron verb part num noun part counc pron verb part num noun part councoun part num noun part councoun part councoun part councoun part num noun part councoun part councoun part num noun part councoun part num noun part councoun part num noun part councoun part num noun part councoun part num\n"
     ]
    },
    {
     "name": "stderr",
     "output_type": "stream",
     "text": [
      "  4%|▍         | 42/1004 [04:43<1:45:17,  6.57s/it]"
     ]
    },
    {
     "name": "stdout",
     "output_type": "stream",
     "text": [
      "<|TOK1|>整 出嚟 呀 ！\n",
      "<|TOK200|>intj punct cconj pron noun part verb punct cjon noun part num noun noun part num noun part num noun part num noun part num noun part num noun part num noun part num noun part num noun part num noun part num noun part num noun part num noun part num num noun part num noun part num num noun part num noun part num noun part num num noun part num num num noun part num noun part num num num noun part num num noun part num noun part num num noun part num num noun part num noun part num num num noun part num num noun part num num noun part num num num num num num num num num\n"
     ]
    },
    {
     "name": "stderr",
     "output_type": "stream",
     "text": [
      "  4%|▍         | 43/1004 [04:50<1:47:15,  6.70s/it]"
     ]
    },
    {
     "name": "stdout",
     "output_type": "stream",
     "text": [
      "<|TOK1|>斤 半 ！\n",
      "<|TOK200|>icoun punct cconj pron verb part num noun noun part num noun part num noun part punct cconj pron verb part num noun part num noun part num noun part num noun part num noun part num noun part num noun part num noun part num noun part num noun part num noun part num noun part num noun part num noun part num noun part num noun part num noun part num num noun part num noun part num num noun part num noun part num noun part num num noun part num num noun part num num noun part num noun part num num noun part num noun part num noun part num num num num noun part num noun part num num\n"
     ]
    },
    {
     "name": "stderr",
     "output_type": "stream",
     "text": [
      "  4%|▍         | 44/1004 [04:57<1:48:35,  6.79s/it]"
     ]
    },
    {
     "name": "stdout",
     "output_type": "stream",
     "text": [
      "<|TOK1|>好 ， 收 到 。\n",
      "<|TOK200|>counj punct cconj pron verb part num noun noun part punct cjonoun noun part noun part punct councj pron noun part noun part num noun noun part punct councj pron noun part punct councj pron noun part noun part noun part punct councj pron noun part councj pron noun part councj pron noun part councj pron noun part councj pron noun part councj pron noun part councj pron noun part councj pron noun part councj pron noun part councj pron noun part councj pron noun part councj pron noun part councj\n"
     ]
    },
    {
     "name": "stderr",
     "output_type": "stream",
     "text": [
      "  4%|▍         | 45/1004 [05:04<1:49:43,  6.86s/it]"
     ]
    },
    {
     "name": "stdout",
     "output_type": "stream",
     "text": [
      "<|TOK1|>走 啦 ， 快 啲 ！\n",
      "<|TOK200|>coun noun part punct cconjunct pron verb part num noun part punct cconj pron verb part num noun part punct counjunct conjunct conjunct councjunct councjunct conjunct councjunct conjunct councjunct councjunct councjunct councjunct councjunct councjunct councjunct councjunct councjunct councjunct councjunct councjunct councjunct councjunct councjunct councjunct councjunct councj\n"
     ]
    },
    {
     "name": "stderr",
     "output_type": "stream",
     "text": [
      "  5%|▍         | 46/1004 [05:11<1:50:13,  6.90s/it]"
     ]
    },
    {
     "name": "stdout",
     "output_type": "stream",
     "text": [
      "<|TOK1|>六十六 個 四 。\n",
      "<|TOK200|>coun pro noun part punct cconj pron verb part num noun part punct counc pro verb part num noun part verb punct counc pro noun part num noun part verb noun part num noun part noun part num noun part num noun part num noun part num noun part num noun part num noun part num noun part num noun part num num noun part num noun part num noun part num noun part num noun part num noun part num noun part num noun part num noun part num noun part num num noun part num noun part num noun part num noun part num noun part num num noun part num noun part num noun part num noun part num noun part\n"
     ]
    },
    {
     "name": "stderr",
     "output_type": "stream",
     "text": [
      "  5%|▍         | 47/1004 [05:18<1:50:37,  6.94s/it]"
     ]
    },
    {
     "name": "stdout",
     "output_type": "stream",
     "text": [
      "<|TOK1|>幾多 呀 ？\n",
      "<|TOK200|>coun pro noun part punct cconj pron verb part num noun part punct cconj pron noun part num noun part punct conj part num noun part num noun part num noun part num noun part num noun part num noun part num noun part num noun part num noun part num noun part num noun part num noun part num noun part num noun part num num noun part num noun part num noun part num noun part num noun part num noun part num noun part num num noun part num noun part num num noun part num num noun part num num noun part num noun part num num num noun part num num num noun part num num num noun\n"
     ]
    },
    {
     "name": "stderr",
     "output_type": "stream",
     "text": [
      "  5%|▍         | 48/1004 [05:25<1:50:48,  6.95s/it]"
     ]
    },
    {
     "name": "stdout",
     "output_type": "stream",
     "text": [
      "<|TOK1|>六十六 個 四 。\n",
      "<|TOK200|>cconj pron verb part punct coun noun part punct counc pron verb part punct counc pron noun part punct counc pron verb part punct counc pron verb part noun part punct counc pron noun part counc pron noun part counc part noun part counc pron noun part counc pron verb part counc pron noun part counc pron noun part counc pron verb part counc part counc pron noun part counc pron verb part counc part counc pron noun part counc part counc part counc pron noun part counc part counc part counc part counc pron noun part counc part counc\n"
     ]
    },
    {
     "name": "stderr",
     "output_type": "stream",
     "text": [
      "  5%|▍         | 49/1004 [05:32<1:50:58,  6.97s/it]"
     ]
    },
    {
     "name": "stdout",
     "output_type": "stream",
     "text": [
      "<|TOK1|>一百 。\n",
      "<|TOK200|>intj punct cjon pron noun part cunion noun part cunion noun part cunion noun part cunion noun part cunion noun part cunion noun part cunion noun part cunion noun part cunion noun part cunion noun part cunion noun part cunion noun part cunion noun part cunion noun part cunion noun part cunion noun part cunion noun part cunion noun part cunion noun part cunion noun part cunion noun part cunion noun part cunion noun part cunion cunion noun part cunion noun part cunion cunion noun part cunion noun part cunion cunion noun part cunion\n"
     ]
    },
    {
     "name": "stderr",
     "output_type": "stream",
     "text": [
      "  5%|▍         | 50/1004 [05:39<1:50:58,  6.98s/it]"
     ]
    },
    {
     "name": "stdout",
     "output_type": "stream",
     "text": [
      "<|TOK1|>找 返 你 三十 ⋯⋯\n",
      "<|TOK200|>cconj pron verb part num noun part punct cjonous part num noun part punct cjonous part num noun part punct cjonous part num noun part punct cjonous part num noun part cjonous part num noun part cjonous part num noun part cjonous part num noun part cjonous part num noun part cjonous part num noun part cjonous part num noun part cjonous part num noun part cjonous part num noun part cjonous part num noun part cjonous part num noun part cjonous part num noun part cjonous part num noun part cjonous part\n"
     ]
    },
    {
     "name": "stderr",
     "output_type": "stream",
     "text": [
      "  5%|▌         | 51/1004 [05:46<1:50:55,  6.98s/it]"
     ]
    },
    {
     "name": "stdout",
     "output_type": "stream",
     "text": [
      "<|TOK1|>姐姐 呀 ， 啲 錢 畀 我 得 㗎 嘞 ！\n",
      "<|TOK200|>counj punct cconj pron verb part num noun part punct cconj pron noun part num noun part num noun part cjon pron noun part cunj punct cjj part cunj cjj part cunj cjj part cunj cjj part cunj cjj part cunj cjj part cunj cjj part cunj cjj part cunj cjj part cunj cjj part cunj cjj part cunj cjj part cunj cjj part cunj cjj part cunj cjj part cunj cjj part cun\n"
     ]
    },
    {
     "name": "stderr",
     "output_type": "stream",
     "text": [
      "  5%|▌         | 52/1004 [05:53<1:50:52,  6.99s/it]"
     ]
    },
    {
     "name": "stdout",
     "output_type": "stream",
     "text": [
      "<|TOK1|>爺爺 呀 ， 呢啲 畀 你 嘅 ！\n",
      "<|TOK200|>cconj pron adv part num noun part punct cconj pron verb part num noun part cjon pron verb part num noun part num noun part cjon pron verb part num noun part cjon pron verb part num noun part cjon pro verb part num noun part cjon pro verb part num noun part cjon pro verb part num noun part cjon pro verb part num noun part cjon pro verb part num noun part cjon pro verb part num noun part cjon pro verb part num noun part cjon pro verb part num noun part cjon pro verb part num noun part cjon pro verb part num noun part cjon pro verb\n"
     ]
    },
    {
     "name": "stderr",
     "output_type": "stream",
     "text": [
      "  5%|▌         | 53/1004 [06:00<1:50:54,  7.00s/it]"
     ]
    },
    {
     "name": "stdout",
     "output_type": "stream",
     "text": [
      "<|TOK1|>嗰啲 呢 ？\n",
      "<|TOK200|>coun noun part verb punct cconj pron noun part verb part punct cconj pron verb noun part punct cunjousnoun part num noun part cunjousnoun partnum noun part cunjousnoun part num noun part cunjousnoun part cunjous noun part cunjous noun part cunjous noun part cunjous part cunjous noun part cunjous part cunjous part cunjous part cunjous part cunjous part cunjous part cunjous part cunjous part cunjous part cunjous part cunjous part cunjous part cunjous part cunj\n"
     ]
    }
   ],
   "source": [
    "from transformers.pipelines.pt_utils import KeyDataset\n",
    "from tqdm import tqdm\n",
    "import json\n",
    "\n",
    "outputs = pipeline(\n",
    "    KeyDataset(eval_dataset, \"inputs\"),\n",
    "    max_new_tokens=128,\n",
    "    do_sample=True,\n",
    "    temperature=0.6,\n",
    "    top_p=0.9,\n",
    "    stopping_criteria=TranslationStoppingCriteria(prompt),\n",
    "    pad_token_id=tokenizer.eos_token_id,\n",
    ")\n",
    "\n",
    "def parse_translation(text):\n",
    "    lines = text.strip().split('\\n')\n",
    "    result = { 'langs': [], 'sents': [] }\n",
    "\n",
    "    assert(len(pos_tokens) == 1)\n",
    "    # tag_dict = { 'yue': tag_name_dict['yue'], 'pos': pos_tokens[0] }\n",
    "    tag_dict = { 'yue': 'yue:', 'pos': 'pos:' }\n",
    "    \n",
    "    for line in lines:\n",
    "        if len(line.strip()) > 0:\n",
    "            for tag in tag_dict.values():\n",
    "                if line.startswith(tag):\n",
    "                    lang = next(lang for lang, t in tag_dict.items() if t == tag)\n",
    "                    content = line.removeprefix(tag)\n",
    "                    result['langs'].append(lang)\n",
    "                    result['sents'].append(content.strip())\n",
    "                    break\n",
    "    \n",
    "    return result\n",
    "\n",
    "with open(f'pos_{new_model.split(\"/\")[1]}.jsonl', 'w+') as f:\n",
    "    for output in tqdm(outputs, total=len(eval_dataset)):\n",
    "        generated_text = output[0]['generated_text']\n",
    "        generated_text = generated_text.removeprefix(prompt)\n",
    "        print(generated_text)\n",
    "        f.write(json.dumps(parse_translation(generated_text)) + '\\n')\n",
    "        f.flush()"
   ]
  },
  {
   "cell_type": "code",
   "execution_count": null,
   "id": "dd00a994-1229-417e-9f60-ac605c49113f",
   "metadata": {},
   "outputs": [],
   "source": []
  }
 ],
 "metadata": {
  "kernelspec": {
   "display_name": "Python 3 (ipykernel)",
   "language": "python",
   "name": "python3"
  },
  "language_info": {
   "codemirror_mode": {
    "name": "ipython",
    "version": 3
   },
   "file_extension": ".py",
   "mimetype": "text/x-python",
   "name": "python",
   "nbconvert_exporter": "python",
   "pygments_lexer": "ipython3",
   "version": "3.10.13"
  }
 },
 "nbformat": 4,
 "nbformat_minor": 5
}
