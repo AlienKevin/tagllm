{
 "cells": [
  {
   "cell_type": "code",
   "execution_count": 12,
   "metadata": {},
   "outputs": [],
   "source": [
    "from datasets import load_dataset\n",
    "\n",
    "def get_ud_yue_hk_pos_dataset():\n",
    "    dataset = load_dataset(\"universal_dependencies\", \"yue_hk\")\n",
    "    train_dataset = dataset[\"test\"]\n",
    "\n",
    "    def preprocess_function(examples):\n",
    "        examples[\"inputs\"] = [\"yue:\" + ' '.join(examples[\"tokens\"][i]) + \"\\n\" + \n",
    "            \"pos:\" + ' '.join(train_dataset.features[\"upos\"].feature.int2str(tag).lower() for tag in examples[\"upos\"][i]) for i in range(len(examples[\"tokens\"]))]\n",
    "        return examples\n",
    "    \n",
    "    train_dataset = train_dataset.map(preprocess_function, remove_columns=\n",
    "        ['idx', 'text', 'tokens', 'lemmas', 'upos', 'xpos', 'feats', 'head', 'deprel', 'deps', 'misc'], batched=True)\n",
    "    return train_dataset"
   ]
  },
  {
   "cell_type": "code",
   "execution_count": 13,
   "metadata": {},
   "outputs": [
    {
     "name": "stderr",
     "output_type": "stream",
     "text": [
      "Map: 100%|██████████| 1004/1004 [00:01<00:00, 790.07 examples/s]\n"
     ]
    },
    {
     "data": {
      "text/plain": [
       "Dataset({\n",
       "    features: ['inputs'],\n",
       "    num_rows: 1004\n",
       "})"
      ]
     },
     "execution_count": 13,
     "metadata": {},
     "output_type": "execute_result"
    }
   ],
   "source": [
    "ud_yue_hk_pos_dataset = get_ud_yue_hk_pos_dataset()\n",
    "ud_yue_hk_pos_dataset"
   ]
  },
  {
   "cell_type": "code",
   "execution_count": 14,
   "metadata": {},
   "outputs": [
    {
     "data": {
      "text/plain": [
       "{'inputs': ['yue:你 喺度 搵 乜嘢 呀 ？\\npos:pron adv verb pron part punct',\n",
       "  'yue:咪 執 返 啲 嘢 去 阿哥 個 新 屋 度 囖 。\\npos:adv verb verb noun noun verb noun noun adj noun adp part punct',\n",
       "  'yue:該 拎 嗰啲 都 拎 走 咗 啦 ！\\npos:aux verb pron adv verb verb aux part punct',\n",
       "  'yue:剩 落 呢啲 都 係 冇用 㗎 喇 ！\\npos:verb part pron adv aux adj part part punct',\n",
       "  'yue:噉 都 要 執 \\uecb9 ！\\npos:adv adv aux verb part punct',\n",
       "  'yue:係 喇 ， 豪仔 今晚 返 唔 返嚟 食飯 呀 ？\\npos:verb part punct propn noun verb adv verb verb part punct',\n",
       "  'yue:佢 日日 都 同 女朋友 去 玩 煮飯仔 ， 鬼 得閒 理 我哋 咩 ？\\npos:pron adv adv adp noun verb verb noun punct noun adj verb pron part punct',\n",
       "  'yue:呢啲 都 唔 要 㗎 啦 ， 可 ？\\npos:pron adv adv verb part part punct part punct',\n",
       "  'yue:部 機 都 冇 咗 嘞 。\\npos:noun noun adv verb aux part punct',\n",
       "  'yue:爺爺 ， 我 可 唔 可以 睇 新 一 集 嘅 龍珠 呀 ？\\npos:noun punct pron aux adv aux verb adj num noun part propn part punct']}"
      ]
     },
     "execution_count": 14,
     "metadata": {},
     "output_type": "execute_result"
    }
   ],
   "source": [
    "ud_yue_hk_pos_dataset[:10]"
   ]
  }
 ],
 "metadata": {
  "kernelspec": {
   "display_name": "tagllm",
   "language": "python",
   "name": "python3"
  },
  "language_info": {
   "codemirror_mode": {
    "name": "ipython",
    "version": 3
   },
   "file_extension": ".py",
   "mimetype": "text/x-python",
   "name": "python",
   "nbconvert_exporter": "python",
   "pygments_lexer": "ipython3",
   "version": "3.12.3"
  }
 },
 "nbformat": 4,
 "nbformat_minor": 2
}
