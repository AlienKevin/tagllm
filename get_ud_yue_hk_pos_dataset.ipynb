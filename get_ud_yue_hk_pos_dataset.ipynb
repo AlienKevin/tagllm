{
 "cells": [
  {
   "cell_type": "code",
   "execution_count": 3,
   "metadata": {},
   "outputs": [],
   "source": [
    "from datasets import load_dataset\n",
    "\n",
    "def patch_v(tag):\n",
    "    if tag == 'V':\n",
    "        return 'VERB'\n",
    "    else:\n",
    "        return tag\n",
    "\n",
    "def get_ud_yue_hk_pos_dataset():\n",
    "    #default only option\n",
    "    dataset = load_dataset(\"universal_dependencies\", \"yue_hk\")\n",
    "    train_dataset = dataset[\"test\"]\n",
    "\n",
    "    def preprocess_function(examples):\n",
    "        examples[\"inputs\"] = [\"yue:\" + ' '.join(examples[\"tokens\"][i]) + \"\\n\" + \n",
    "            \"pos:\" + ' '.join(str(tag) for tag in examples[\"upos\"][i]) for i in range(len(examples[\"tokens\"]))]\n",
    "        return examples\n",
    "    \n",
    "    train_dataset = train_dataset.map(preprocess_function, remove_columns=\n",
    "        ['idx', 'text', 'tokens', 'lemmas', 'upos', 'xpos', 'feats', 'head', 'deprel', 'deps', 'misc'], batched=True)\n",
    "    return train_dataset"
   ]
  },
  {
   "cell_type": "code",
   "execution_count": 4,
   "metadata": {},
   "outputs": [
    {
     "name": "stderr",
     "output_type": "stream",
     "text": [
      "Map: 100%|██████████| 1004/1004 [00:00<00:00, 47528.60 examples/s]\n"
     ]
    },
    {
     "data": {
      "text/plain": [
       "Dataset({\n",
       "    features: ['inputs'],\n",
       "    num_rows: 1004\n",
       "})"
      ]
     },
     "execution_count": 4,
     "metadata": {},
     "output_type": "execute_result"
    }
   ],
   "source": [
    "ud_yue_hk_pos_dataset = get_ud_yue_hk_pos_dataset()\n",
    "ud_yue_hk_pos_dataset"
   ]
  },
  {
   "cell_type": "code",
   "execution_count": 5,
   "metadata": {},
   "outputs": [
    {
     "data": {
      "text/plain": [
       "{'inputs': ['yue:你 喺度 搵 乜嘢 呀 ？\\npos:11 14 16 11 7 1',\n",
       "  'yue:咪 執 返 啲 嘢 去 阿哥 個 新 屋 度 囖 。\\npos:14 16 16 0 0 16 0 0 6 0 2 7 1',\n",
       "  'yue:該 拎 嗰啲 都 拎 走 咗 啦 ！\\npos:17 16 11 14 16 16 17 7 1',\n",
       "  'yue:剩 落 呢啲 都 係 冇用 㗎 喇 ！\\npos:16 7 11 14 17 6 7 7 1',\n",
       "  'yue:噉 都 要 執 \\uecb9 ！\\npos:14 14 17 16 7 1',\n",
       "  'yue:係 喇 ， 豪仔 今晚 返 唔 返嚟 食飯 呀 ？\\npos:16 7 1 10 0 16 14 16 16 7 1',\n",
       "  'yue:佢 日日 都 同 女朋友 去 玩 煮飯仔 ， 鬼 得閒 理 我哋 咩 ？\\npos:11 14 14 2 0 16 16 0 1 0 6 16 11 7 1',\n",
       "  'yue:呢啲 都 唔 要 㗎 啦 ， 可 ？\\npos:11 14 14 16 7 7 1 7 1',\n",
       "  'yue:部 機 都 冇 咗 嘞 。\\npos:0 0 14 16 17 7 1',\n",
       "  'yue:爺爺 ， 我 可 唔 可以 睇 新 一 集 嘅 龍珠 呀 ？\\npos:0 1 11 17 14 17 16 6 3 0 7 10 7 1']}"
      ]
     },
     "execution_count": 5,
     "metadata": {},
     "output_type": "execute_result"
    }
   ],
   "source": [
    "ud_yue_hk_pos_dataset[:10]"
   ]
  }
 ],
 "metadata": {
  "kernelspec": {
   "display_name": "tagllm",
   "language": "python",
   "name": "python3"
  },
  "language_info": {
   "codemirror_mode": {
    "name": "ipython",
    "version": 3
   },
   "file_extension": ".py",
   "mimetype": "text/x-python",
   "name": "python",
   "nbconvert_exporter": "python",
   "pygments_lexer": "ipython3",
   "version": "3.12.3"
  }
 },
 "nbformat": 4,
 "nbformat_minor": 2
}
